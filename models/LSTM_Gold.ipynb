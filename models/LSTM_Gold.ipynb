{
 "cells": [
  {
   "cell_type": "code",
   "execution_count": 1,
   "id": "35801504-6e16-4e34-8803-b857713ddddb",
   "metadata": {
    "tags": []
   },
   "outputs": [
    {
     "name": "stderr",
     "output_type": "stream",
     "text": [
      "[*********************100%%**********************]  1 of 1 completed\n"
     ]
    },
    {
     "data": {
      "text/html": [
       "<div>\n",
       "<style scoped>\n",
       "    .dataframe tbody tr th:only-of-type {\n",
       "        vertical-align: middle;\n",
       "    }\n",
       "\n",
       "    .dataframe tbody tr th {\n",
       "        vertical-align: top;\n",
       "    }\n",
       "\n",
       "    .dataframe thead th {\n",
       "        text-align: right;\n",
       "    }\n",
       "</style>\n",
       "<table border=\"1\" class=\"dataframe\">\n",
       "  <thead>\n",
       "    <tr style=\"text-align: right;\">\n",
       "      <th></th>\n",
       "      <th>Date</th>\n",
       "      <th>Open</th>\n",
       "      <th>High</th>\n",
       "      <th>Low</th>\n",
       "      <th>Close</th>\n",
       "      <th>Adj Close</th>\n",
       "      <th>Volume</th>\n",
       "    </tr>\n",
       "  </thead>\n",
       "  <tbody>\n",
       "    <tr>\n",
       "      <th>0</th>\n",
       "      <td>2000-08-30</td>\n",
       "      <td>273.899994</td>\n",
       "      <td>273.899994</td>\n",
       "      <td>273.899994</td>\n",
       "      <td>273.899994</td>\n",
       "      <td>273.899994</td>\n",
       "      <td>0</td>\n",
       "    </tr>\n",
       "    <tr>\n",
       "      <th>1</th>\n",
       "      <td>2000-08-31</td>\n",
       "      <td>274.799988</td>\n",
       "      <td>278.299988</td>\n",
       "      <td>274.799988</td>\n",
       "      <td>278.299988</td>\n",
       "      <td>278.299988</td>\n",
       "      <td>0</td>\n",
       "    </tr>\n",
       "    <tr>\n",
       "      <th>2</th>\n",
       "      <td>2000-09-01</td>\n",
       "      <td>277.000000</td>\n",
       "      <td>277.000000</td>\n",
       "      <td>277.000000</td>\n",
       "      <td>277.000000</td>\n",
       "      <td>277.000000</td>\n",
       "      <td>0</td>\n",
       "    </tr>\n",
       "    <tr>\n",
       "      <th>3</th>\n",
       "      <td>2000-09-05</td>\n",
       "      <td>275.799988</td>\n",
       "      <td>275.799988</td>\n",
       "      <td>275.799988</td>\n",
       "      <td>275.799988</td>\n",
       "      <td>275.799988</td>\n",
       "      <td>2</td>\n",
       "    </tr>\n",
       "    <tr>\n",
       "      <th>4</th>\n",
       "      <td>2000-09-06</td>\n",
       "      <td>274.200012</td>\n",
       "      <td>274.200012</td>\n",
       "      <td>274.200012</td>\n",
       "      <td>274.200012</td>\n",
       "      <td>274.200012</td>\n",
       "      <td>0</td>\n",
       "    </tr>\n",
       "    <tr>\n",
       "      <th>...</th>\n",
       "      <td>...</td>\n",
       "      <td>...</td>\n",
       "      <td>...</td>\n",
       "      <td>...</td>\n",
       "      <td>...</td>\n",
       "      <td>...</td>\n",
       "      <td>...</td>\n",
       "    </tr>\n",
       "    <tr>\n",
       "      <th>5916</th>\n",
       "      <td>2024-04-01</td>\n",
       "      <td>2235.699951</td>\n",
       "      <td>2264.199951</td>\n",
       "      <td>2230.000000</td>\n",
       "      <td>2236.500000</td>\n",
       "      <td>2236.500000</td>\n",
       "      <td>400</td>\n",
       "    </tr>\n",
       "    <tr>\n",
       "      <th>5917</th>\n",
       "      <td>2024-04-02</td>\n",
       "      <td>2252.000000</td>\n",
       "      <td>2279.199951</td>\n",
       "      <td>2247.600098</td>\n",
       "      <td>2261.000000</td>\n",
       "      <td>2261.000000</td>\n",
       "      <td>435</td>\n",
       "    </tr>\n",
       "    <tr>\n",
       "      <th>5918</th>\n",
       "      <td>2024-04-03</td>\n",
       "      <td>2281.699951</td>\n",
       "      <td>2298.800049</td>\n",
       "      <td>2267.899902</td>\n",
       "      <td>2294.399902</td>\n",
       "      <td>2294.399902</td>\n",
       "      <td>285</td>\n",
       "    </tr>\n",
       "    <tr>\n",
       "      <th>5919</th>\n",
       "      <td>2024-04-04</td>\n",
       "      <td>2301.699951</td>\n",
       "      <td>2302.899902</td>\n",
       "      <td>2280.000000</td>\n",
       "      <td>2288.800049</td>\n",
       "      <td>2288.800049</td>\n",
       "      <td>285</td>\n",
       "    </tr>\n",
       "    <tr>\n",
       "      <th>5920</th>\n",
       "      <td>2024-04-05</td>\n",
       "      <td>2309.500000</td>\n",
       "      <td>2312.300049</td>\n",
       "      <td>2286.199951</td>\n",
       "      <td>2310.300049</td>\n",
       "      <td>2310.300049</td>\n",
       "      <td>60368</td>\n",
       "    </tr>\n",
       "  </tbody>\n",
       "</table>\n",
       "<p>5921 rows × 7 columns</p>\n",
       "</div>"
      ],
      "text/plain": [
       "           Date         Open         High          Low        Close  \\\n",
       "0    2000-08-30   273.899994   273.899994   273.899994   273.899994   \n",
       "1    2000-08-31   274.799988   278.299988   274.799988   278.299988   \n",
       "2    2000-09-01   277.000000   277.000000   277.000000   277.000000   \n",
       "3    2000-09-05   275.799988   275.799988   275.799988   275.799988   \n",
       "4    2000-09-06   274.200012   274.200012   274.200012   274.200012   \n",
       "...         ...          ...          ...          ...          ...   \n",
       "5916 2024-04-01  2235.699951  2264.199951  2230.000000  2236.500000   \n",
       "5917 2024-04-02  2252.000000  2279.199951  2247.600098  2261.000000   \n",
       "5918 2024-04-03  2281.699951  2298.800049  2267.899902  2294.399902   \n",
       "5919 2024-04-04  2301.699951  2302.899902  2280.000000  2288.800049   \n",
       "5920 2024-04-05  2309.500000  2312.300049  2286.199951  2310.300049   \n",
       "\n",
       "        Adj Close  Volume  \n",
       "0      273.899994       0  \n",
       "1      278.299988       0  \n",
       "2      277.000000       0  \n",
       "3      275.799988       2  \n",
       "4      274.200012       0  \n",
       "...           ...     ...  \n",
       "5916  2236.500000     400  \n",
       "5917  2261.000000     435  \n",
       "5918  2294.399902     285  \n",
       "5919  2288.800049     285  \n",
       "5920  2310.300049   60368  \n",
       "\n",
       "[5921 rows x 7 columns]"
      ]
     },
     "execution_count": 1,
     "metadata": {},
     "output_type": "execute_result"
    }
   ],
   "source": [
    "import yfinance as yf\n",
    "import pandas as pd\n",
    "import numpy as np\n",
    "import matplotlib.pyplot as plt\n",
    "\n",
    "import torch\n",
    "import torch.nn as nn\n",
    "\n",
    "#fetching gold data from yahoo finance\n",
    "data = yf.Ticker('GC=F')\n",
    "symbol = 'GC=F'\n",
    "start_date = \"2010-01-01\"\n",
    "data = yf.download('GC=F', period = 'max')\n",
    "\n",
    "# Resetting the index to turn the date index into a column\n",
    "data.reset_index(inplace=True)\n",
    "\n",
    "data"
   ]
  },
  {
   "cell_type": "code",
   "execution_count": 2,
   "id": "70548503-a6ae-4d95-a299-2abef9738ab2",
   "metadata": {
    "tags": []
   },
   "outputs": [
    {
     "data": {
      "text/html": [
       "<div>\n",
       "<style scoped>\n",
       "    .dataframe tbody tr th:only-of-type {\n",
       "        vertical-align: middle;\n",
       "    }\n",
       "\n",
       "    .dataframe tbody tr th {\n",
       "        vertical-align: top;\n",
       "    }\n",
       "\n",
       "    .dataframe thead th {\n",
       "        text-align: right;\n",
       "    }\n",
       "</style>\n",
       "<table border=\"1\" class=\"dataframe\">\n",
       "  <thead>\n",
       "    <tr style=\"text-align: right;\">\n",
       "      <th></th>\n",
       "      <th>Date</th>\n",
       "      <th>Close</th>\n",
       "    </tr>\n",
       "  </thead>\n",
       "  <tbody>\n",
       "    <tr>\n",
       "      <th>0</th>\n",
       "      <td>2000-08-30</td>\n",
       "      <td>273.899994</td>\n",
       "    </tr>\n",
       "    <tr>\n",
       "      <th>1</th>\n",
       "      <td>2000-08-31</td>\n",
       "      <td>278.299988</td>\n",
       "    </tr>\n",
       "    <tr>\n",
       "      <th>2</th>\n",
       "      <td>2000-09-01</td>\n",
       "      <td>277.000000</td>\n",
       "    </tr>\n",
       "    <tr>\n",
       "      <th>3</th>\n",
       "      <td>2000-09-05</td>\n",
       "      <td>275.799988</td>\n",
       "    </tr>\n",
       "    <tr>\n",
       "      <th>4</th>\n",
       "      <td>2000-09-06</td>\n",
       "      <td>274.200012</td>\n",
       "    </tr>\n",
       "    <tr>\n",
       "      <th>...</th>\n",
       "      <td>...</td>\n",
       "      <td>...</td>\n",
       "    </tr>\n",
       "    <tr>\n",
       "      <th>5916</th>\n",
       "      <td>2024-04-01</td>\n",
       "      <td>2236.500000</td>\n",
       "    </tr>\n",
       "    <tr>\n",
       "      <th>5917</th>\n",
       "      <td>2024-04-02</td>\n",
       "      <td>2261.000000</td>\n",
       "    </tr>\n",
       "    <tr>\n",
       "      <th>5918</th>\n",
       "      <td>2024-04-03</td>\n",
       "      <td>2294.399902</td>\n",
       "    </tr>\n",
       "    <tr>\n",
       "      <th>5919</th>\n",
       "      <td>2024-04-04</td>\n",
       "      <td>2288.800049</td>\n",
       "    </tr>\n",
       "    <tr>\n",
       "      <th>5920</th>\n",
       "      <td>2024-04-05</td>\n",
       "      <td>2310.300049</td>\n",
       "    </tr>\n",
       "  </tbody>\n",
       "</table>\n",
       "<p>5921 rows × 2 columns</p>\n",
       "</div>"
      ],
      "text/plain": [
       "           Date        Close\n",
       "0    2000-08-30   273.899994\n",
       "1    2000-08-31   278.299988\n",
       "2    2000-09-01   277.000000\n",
       "3    2000-09-05   275.799988\n",
       "4    2000-09-06   274.200012\n",
       "...         ...          ...\n",
       "5916 2024-04-01  2236.500000\n",
       "5917 2024-04-02  2261.000000\n",
       "5918 2024-04-03  2294.399902\n",
       "5919 2024-04-04  2288.800049\n",
       "5920 2024-04-05  2310.300049\n",
       "\n",
       "[5921 rows x 2 columns]"
      ]
     },
     "execution_count": 2,
     "metadata": {},
     "output_type": "execute_result"
    }
   ],
   "source": [
    "# trim dataset to relevent columns (we only need date and close to forecast prices)\n",
    "data = data[['Date', 'Close']]\n",
    "data"
   ]
  },
  {
   "cell_type": "code",
   "execution_count": 3,
   "id": "0d2794fe-8e4d-4793-a2be-af9af6096910",
   "metadata": {
    "tags": []
   },
   "outputs": [
    {
     "data": {
      "text/plain": [
       "[<matplotlib.lines.Line2D at 0x16332803890>]"
      ]
     },
     "execution_count": 3,
     "metadata": {},
     "output_type": "execute_result"
    },
    {
     "data": {
      "image/png": "[encoded data removed]",
      "text/plain": [
       "<Figure size 640x480 with 1 Axes>"
      ]
     },
     "metadata": {},
     "output_type": "display_data"
    }
   ],
   "source": [
    "#simple transformations\n",
    "data.loc[:, 'Date'] = pd.to_datetime(data['Date'])\n",
    "\n",
    "plt.plot(data['Date'], data['Close'])"
   ]
  },
  {
   "cell_type": "code",
   "execution_count": 4,
   "id": "29d01443-a9df-420c-8f6e-8340b9036a7e",
   "metadata": {
    "tags": []
   },
   "outputs": [
    {
     "data": {
      "text/plain": [
       "'cpu'"
      ]
     },
     "execution_count": 4,
     "metadata": {},
     "output_type": "execute_result"
    }
   ],
   "source": [
    "device = 'cuda:0' if torch.cuda.is_available() else 'cpu'\n",
    "device"
   ]
  },
  {
   "cell_type": "code",
   "execution_count": 5,
   "id": "f48de125-1893-445f-a167-41f87a5aaf99",
   "metadata": {
    "tags": []
   },
   "outputs": [
    {
     "data": {
      "text/html": [
       "<div>\n",
       "<style scoped>\n",
       "    .dataframe tbody tr th:only-of-type {\n",
       "        vertical-align: middle;\n",
       "    }\n",
       "\n",
       "    .dataframe tbody tr th {\n",
       "        vertical-align: top;\n",
       "    }\n",
       "\n",
       "    .dataframe thead th {\n",
       "        text-align: right;\n",
       "    }\n",
       "</style>\n",
       "<table border=\"1\" class=\"dataframe\">\n",
       "  <thead>\n",
       "    <tr style=\"text-align: right;\">\n",
       "      <th></th>\n",
       "      <th>Close</th>\n",
       "      <th>Close(t-1)</th>\n",
       "      <th>Close(t-2)</th>\n",
       "      <th>Close(t-3)</th>\n",
       "      <th>Close(t-4)</th>\n",
       "      <th>Close(t-5)</th>\n",
       "      <th>Close(t-6)</th>\n",
       "      <th>Close(t-7)</th>\n",
       "    </tr>\n",
       "    <tr>\n",
       "      <th>Date</th>\n",
       "      <th></th>\n",
       "      <th></th>\n",
       "      <th></th>\n",
       "      <th></th>\n",
       "      <th></th>\n",
       "      <th></th>\n",
       "      <th></th>\n",
       "      <th></th>\n",
       "    </tr>\n",
       "  </thead>\n",
       "  <tbody>\n",
       "    <tr>\n",
       "      <th>2000-09-11</th>\n",
       "      <td>273.100006</td>\n",
       "      <td>273.299988</td>\n",
       "      <td>274.000000</td>\n",
       "      <td>274.200012</td>\n",
       "      <td>275.799988</td>\n",
       "      <td>277.000000</td>\n",
       "      <td>278.299988</td>\n",
       "      <td>273.899994</td>\n",
       "    </tr>\n",
       "    <tr>\n",
       "      <th>2000-09-12</th>\n",
       "      <td>272.899994</td>\n",
       "      <td>273.100006</td>\n",
       "      <td>273.299988</td>\n",
       "      <td>274.000000</td>\n",
       "      <td>274.200012</td>\n",
       "      <td>275.799988</td>\n",
       "      <td>277.000000</td>\n",
       "      <td>278.299988</td>\n",
       "    </tr>\n",
       "    <tr>\n",
       "      <th>2000-09-13</th>\n",
       "      <td>272.799988</td>\n",
       "      <td>272.899994</td>\n",
       "      <td>273.100006</td>\n",
       "      <td>273.299988</td>\n",
       "      <td>274.000000</td>\n",
       "      <td>274.200012</td>\n",
       "      <td>275.799988</td>\n",
       "      <td>277.000000</td>\n",
       "    </tr>\n",
       "    <tr>\n",
       "      <th>2000-09-14</th>\n",
       "      <td>272.399994</td>\n",
       "      <td>272.799988</td>\n",
       "      <td>272.899994</td>\n",
       "      <td>273.100006</td>\n",
       "      <td>273.299988</td>\n",
       "      <td>274.000000</td>\n",
       "      <td>274.200012</td>\n",
       "      <td>275.799988</td>\n",
       "    </tr>\n",
       "    <tr>\n",
       "      <th>2000-09-15</th>\n",
       "      <td>272.299988</td>\n",
       "      <td>272.399994</td>\n",
       "      <td>272.799988</td>\n",
       "      <td>272.899994</td>\n",
       "      <td>273.100006</td>\n",
       "      <td>273.299988</td>\n",
       "      <td>274.000000</td>\n",
       "      <td>274.200012</td>\n",
       "    </tr>\n",
       "    <tr>\n",
       "      <th>...</th>\n",
       "      <td>...</td>\n",
       "      <td>...</td>\n",
       "      <td>...</td>\n",
       "      <td>...</td>\n",
       "      <td>...</td>\n",
       "      <td>...</td>\n",
       "      <td>...</td>\n",
       "      <td>...</td>\n",
       "    </tr>\n",
       "    <tr>\n",
       "      <th>2024-04-01</th>\n",
       "      <td>2236.500000</td>\n",
       "      <td>2217.399902</td>\n",
       "      <td>2190.600098</td>\n",
       "      <td>2175.600098</td>\n",
       "      <td>2174.800049</td>\n",
       "      <td>2158.100098</td>\n",
       "      <td>2182.399902</td>\n",
       "      <td>2157.899902</td>\n",
       "    </tr>\n",
       "    <tr>\n",
       "      <th>2024-04-02</th>\n",
       "      <td>2261.000000</td>\n",
       "      <td>2236.500000</td>\n",
       "      <td>2217.399902</td>\n",
       "      <td>2190.600098</td>\n",
       "      <td>2175.600098</td>\n",
       "      <td>2174.800049</td>\n",
       "      <td>2158.100098</td>\n",
       "      <td>2182.399902</td>\n",
       "    </tr>\n",
       "    <tr>\n",
       "      <th>2024-04-03</th>\n",
       "      <td>2294.399902</td>\n",
       "      <td>2261.000000</td>\n",
       "      <td>2236.500000</td>\n",
       "      <td>2217.399902</td>\n",
       "      <td>2190.600098</td>\n",
       "      <td>2175.600098</td>\n",
       "      <td>2174.800049</td>\n",
       "      <td>2158.100098</td>\n",
       "    </tr>\n",
       "    <tr>\n",
       "      <th>2024-04-04</th>\n",
       "      <td>2288.800049</td>\n",
       "      <td>2294.399902</td>\n",
       "      <td>2261.000000</td>\n",
       "      <td>2236.500000</td>\n",
       "      <td>2217.399902</td>\n",
       "      <td>2190.600098</td>\n",
       "      <td>2175.600098</td>\n",
       "      <td>2174.800049</td>\n",
       "    </tr>\n",
       "    <tr>\n",
       "      <th>2024-04-05</th>\n",
       "      <td>2310.300049</td>\n",
       "      <td>2288.800049</td>\n",
       "      <td>2294.399902</td>\n",
       "      <td>2261.000000</td>\n",
       "      <td>2236.500000</td>\n",
       "      <td>2217.399902</td>\n",
       "      <td>2190.600098</td>\n",
       "      <td>2175.600098</td>\n",
       "    </tr>\n",
       "  </tbody>\n",
       "</table>\n",
       "<p>5914 rows × 8 columns</p>\n",
       "</div>"
      ],
      "text/plain": [
       "                  Close   Close(t-1)   Close(t-2)   Close(t-3)   Close(t-4)  \\\n",
       "Date                                                                          \n",
       "2000-09-11   273.100006   273.299988   274.000000   274.200012   275.799988   \n",
       "2000-09-12   272.899994   273.100006   273.299988   274.000000   274.200012   \n",
       "2000-09-13   272.799988   272.899994   273.100006   273.299988   274.000000   \n",
       "2000-09-14   272.399994   272.799988   272.899994   273.100006   273.299988   \n",
       "2000-09-15   272.299988   272.399994   272.799988   272.899994   273.100006   \n",
       "...                 ...          ...          ...          ...          ...   \n",
       "2024-04-01  2236.500000  2217.399902  2190.600098  2175.600098  2174.800049   \n",
       "2024-04-02  2261.000000  2236.500000  2217.399902  2190.600098  2175.600098   \n",
       "2024-04-03  2294.399902  2261.000000  2236.500000  2217.399902  2190.600098   \n",
       "2024-04-04  2288.800049  2294.399902  2261.000000  2236.500000  2217.399902   \n",
       "2024-04-05  2310.300049  2288.800049  2294.399902  2261.000000  2236.500000   \n",
       "\n",
       "             Close(t-5)   Close(t-6)   Close(t-7)  \n",
       "Date                                               \n",
       "2000-09-11   277.000000   278.299988   273.899994  \n",
       "2000-09-12   275.799988   277.000000   278.299988  \n",
       "2000-09-13   274.200012   275.799988   277.000000  \n",
       "2000-09-14   274.000000   274.200012   275.799988  \n",
       "2000-09-15   273.299988   274.000000   274.200012  \n",
       "...                 ...          ...          ...  \n",
       "2024-04-01  2158.100098  2182.399902  2157.899902  \n",
       "2024-04-02  2174.800049  2158.100098  2182.399902  \n",
       "2024-04-03  2175.600098  2174.800049  2158.100098  \n",
       "2024-04-04  2190.600098  2175.600098  2174.800049  \n",
       "2024-04-05  2217.399902  2190.600098  2175.600098  \n",
       "\n",
       "[5914 rows x 8 columns]"
      ]
     },
     "execution_count": 5,
     "metadata": {},
     "output_type": "execute_result"
    }
   ],
   "source": [
    "#takes df from above and creates a lookback window of a week (lookback =7) \n",
    "from copy import deepcopy as dc\n",
    "\n",
    "def prepare_dataframe_for_lstm(df, n_steps):\n",
    "    df = dc(df)\n",
    "    \n",
    "    df.set_index('Date', inplace=True)\n",
    "    \n",
    "    #shifts dataframe for each lookback window\n",
    "    for i in range(1, n_steps+1):\n",
    "        df[f'Close(t-{i})'] = df['Close'].shift(i)\n",
    "        \n",
    "    df.dropna(inplace=True)\n",
    "    \n",
    "    return df\n",
    "\n",
    "#any greater lookback doesn't capture the volatility of gold \n",
    "lookback = 7\n",
    "shifted_df = prepare_dataframe_for_lstm(data, lookback)\n",
    "shifted_df"
   ]
  },
  {
   "cell_type": "code",
   "execution_count": 6,
   "id": "3b26c0e3-680c-450a-bb5e-c1fa73c87b8b",
   "metadata": {
    "tags": []
   },
   "outputs": [
    {
     "data": {
      "text/plain": [
       "array([[ 273.1000061 ,  273.29998779,  274.        , ...,  277.        ,\n",
       "         278.29998779,  273.8999939 ],\n",
       "       [ 272.8999939 ,  273.1000061 ,  273.29998779, ...,  275.79998779,\n",
       "         277.        ,  278.29998779],\n",
       "       [ 272.79998779,  272.8999939 ,  273.1000061 , ...,  274.20001221,\n",
       "         275.79998779,  277.        ],\n",
       "       ...,\n",
       "       [2294.39990234, 2261.        , 2236.5       , ..., 2175.60009766,\n",
       "        2174.80004883, 2158.10009766],\n",
       "       [2288.80004883, 2294.39990234, 2261.        , ..., 2190.60009766,\n",
       "        2175.60009766, 2174.80004883],\n",
       "       [2310.30004883, 2288.80004883, 2294.39990234, ..., 2217.39990234,\n",
       "        2190.60009766, 2175.60009766]])"
      ]
     },
     "execution_count": 6,
     "metadata": {},
     "output_type": "execute_result"
    }
   ],
   "source": [
    "shifted_df_as_np = shifted_df.to_numpy()\n",
    "\n",
    "shifted_df_as_np"
   ]
  },
  {
   "cell_type": "code",
   "execution_count": 7,
   "id": "053d754f-bf59-4f57-a3e0-ce8148c3e9fd",
   "metadata": {
    "tags": []
   },
   "outputs": [
    {
     "data": {
      "text/plain": [
       "(5914, 8)"
      ]
     },
     "execution_count": 7,
     "metadata": {},
     "output_type": "execute_result"
    }
   ],
   "source": [
    "shifted_df_as_np.shape"
   ]
  },
  {
   "cell_type": "code",
   "execution_count": 8,
   "id": "737e2d2a-59eb-4dfe-98d4-e80e418d09e0",
   "metadata": {
    "tags": []
   },
   "outputs": [
    {
     "data": {
      "text/plain": [
       "array([[-0.98248346, -0.98215076, -0.98146423, ..., -0.97767926,\n",
       "        -0.97602689, -0.98049187],\n",
       "       [-0.9826781 , -0.98234688, -0.98215076, ..., -0.97890233,\n",
       "        -0.9773702 , -0.97592614],\n",
       "       [-0.98277542, -0.98254304, -0.98234688, ..., -0.98053304,\n",
       "        -0.9786102 , -0.97727509],\n",
       "       ...,\n",
       "       [ 0.98452691,  0.96724376,  0.9432159 , ...,  0.95739713,\n",
       "         0.98367342,  0.97468102],\n",
       "       [ 0.97907746,  1.        ,  0.96724376, ...,  0.97268531,\n",
       "         0.98450013,  0.99201001],\n",
       "       [ 1.        ,  0.99450806,  1.        , ...,  1.        ,\n",
       "         1.        ,  0.9928402 ]])"
      ]
     },
     "execution_count": 8,
     "metadata": {},
     "output_type": "execute_result"
    }
   ],
   "source": [
    "#runs scaler on data\n",
    "from sklearn.preprocessing import MinMaxScaler\n",
    "\n",
    "scaler = MinMaxScaler(feature_range=(-1, 1))\n",
    "shifted_df_as_np = scaler.fit_transform(shifted_df_as_np)\n",
    "\n",
    "shifted_df_as_np"
   ]
  },
  {
   "cell_type": "code",
   "execution_count": 9,
   "id": "312cb918-7a74-4eb6-bdd0-9e70d4103744",
   "metadata": {
    "tags": []
   },
   "outputs": [
    {
     "data": {
      "text/plain": [
       "((5914, 7), (5914,))"
      ]
     },
     "execution_count": 9,
     "metadata": {},
     "output_type": "execute_result"
    }
   ],
   "source": [
    "#changes df into x and y\n",
    "X = shifted_df_as_np[:, 1:]\n",
    "y = shifted_df_as_np[:, 0]\n",
    "\n",
    "X.shape, y.shape"
   ]
  },
  {
   "cell_type": "code",
   "execution_count": 10,
   "id": "36606079-ad71-43ab-b5a4-e35dd7b23329",
   "metadata": {
    "tags": []
   },
   "outputs": [
    {
     "data": {
      "text/plain": [
       "array([[-0.98049187, -0.97602689, -0.97767926, ..., -0.98095617,\n",
       "        -0.98146423, -0.98215076],\n",
       "       [-0.97592614, -0.9773702 , -0.97890233, ..., -0.9811556 ,\n",
       "        -0.98215076, -0.98234688],\n",
       "       [-0.97727509, -0.9786102 , -0.98053304, ..., -0.98185355,\n",
       "        -0.98234688, -0.98254304],\n",
       "       ...,\n",
       "       [ 0.97468102,  0.98367342,  0.95739713, ...,  0.95652814,\n",
       "         0.9432159 ,  0.96724376],\n",
       "       [ 0.99201001,  0.98450013,  0.97268531, ...,  0.97557206,\n",
       "         0.96724376,  1.        ],\n",
       "       [ 0.9928402 ,  1.        ,  1.        , ...,  1.        ,\n",
       "         1.        ,  0.99450806]])"
      ]
     },
     "execution_count": 10,
     "metadata": {},
     "output_type": "execute_result"
    }
   ],
   "source": [
    "X = dc(np.flip(X, axis=1))\n",
    "X"
   ]
  },
  {
   "cell_type": "code",
   "execution_count": 11,
   "id": "b27f4480-95d6-443f-b86c-eb077cc32bae",
   "metadata": {
    "tags": []
   },
   "outputs": [
    {
     "data": {
      "text/plain": [
       "5618"
      ]
     },
     "execution_count": 11,
     "metadata": {},
     "output_type": "execute_result"
    }
   ],
   "source": [
    "#use first 95% as train and last 5% as test\n",
    "split_index = int(len(X) * 0.95)\n",
    "\n",
    "split_index"
   ]
  },
  {
   "cell_type": "code",
   "execution_count": 12,
   "id": "f99b6a58-b72f-405d-ad6b-d08c5f03af89",
   "metadata": {
    "tags": []
   },
   "outputs": [
    {
     "data": {
      "text/plain": [
       "((5618, 7), (296, 7), (5618,), (296,))"
      ]
     },
     "execution_count": 12,
     "metadata": {},
     "output_type": "execute_result"
    }
   ],
   "source": [
    "# splitting into train and test\n",
    "X_train = X[:split_index]\n",
    "X_test = X[split_index:]\n",
    "\n",
    "y_train = y[:split_index]\n",
    "y_test = y[split_index:]\n",
    "\n",
    "X_train.shape, X_test.shape, y_train.shape, y_test.shape"
   ]
  },
  {
   "cell_type": "code",
   "execution_count": 13,
   "id": "6dc232db-0a94-4602-b129-201ee41884bf",
   "metadata": {
    "tags": []
   },
   "outputs": [
    {
     "data": {
      "text/plain": [
       "((5618, 7, 1), (296, 7, 1), (5618, 1), (296, 1))"
      ]
     },
     "execution_count": 13,
     "metadata": {},
     "output_type": "execute_result"
    }
   ],
   "source": [
    "#PyTorch requires an extra dimension at end\n",
    "X_train = X_train.reshape((-1, lookback, 1))\n",
    "X_test = X_test.reshape((-1, lookback, 1))\n",
    "\n",
    "y_train = y_train.reshape((-1, 1))\n",
    "y_test = y_test.reshape((-1, 1))\n",
    "\n",
    "X_train.shape, X_test.shape, y_train.shape, y_test.shape"
   ]
  },
  {
   "cell_type": "code",
   "execution_count": 14,
   "id": "68651751-8738-4dd3-b26f-4e240fe214fb",
   "metadata": {
    "tags": []
   },
   "outputs": [
    {
     "data": {
      "text/plain": [
       "(torch.Size([5618, 7, 1]),\n",
       " torch.Size([296, 7, 1]),\n",
       " torch.Size([5618, 1]),\n",
       " torch.Size([296, 1]))"
      ]
     },
     "execution_count": 14,
     "metadata": {},
     "output_type": "execute_result"
    }
   ],
   "source": [
    "#wrapping in tensors for PyTorch\n",
    "X_train = torch.tensor(X_train).float()\n",
    "y_train = torch.tensor(y_train).float()\n",
    "X_test = torch.tensor(X_test).float()\n",
    "y_test = torch.tensor(y_test).float()\n",
    "\n",
    "X_train.shape, X_test.shape, y_train.shape, y_test.shape"
   ]
  },
  {
   "cell_type": "code",
   "execution_count": 15,
   "id": "59deda0e-c07d-4948-ab8d-7676071a132b",
   "metadata": {
    "tags": []
   },
   "outputs": [],
   "source": [
    "#need datasets object for PyTorch\n",
    "#needs to be custom class\n",
    "from torch.utils.data import Dataset\n",
    "\n",
    "class TimeSeriesDataset(Dataset):\n",
    "    def __init__(self, X, y):\n",
    "        self.X = X\n",
    "        self.y = y\n",
    "\n",
    "    def __len__(self):\n",
    "        return len(self.X)\n",
    "\n",
    "    def __getitem__(self, i):\n",
    "        return self.X[i], self.y[i]\n",
    "    \n",
    "train_dataset = TimeSeriesDataset(X_train, y_train)\n",
    "test_dataset = TimeSeriesDataset(X_test, y_test)"
   ]
  },
  {
   "cell_type": "code",
   "execution_count": 16,
   "id": "5167f5f7-30d0-4f8f-8981-953477493711",
   "metadata": {
    "tags": []
   },
   "outputs": [
    {
     "data": {
      "text/plain": [
       "<__main__.TimeSeriesDataset at 0x16337c72a10>"
      ]
     },
     "execution_count": 16,
     "metadata": {},
     "output_type": "execute_result"
    }
   ],
   "source": [
    "train_dataset"
   ]
  },
  {
   "cell_type": "code",
   "execution_count": 17,
   "id": "dd573555-5f4d-4bb6-80a2-341908f273e2",
   "metadata": {
    "tags": []
   },
   "outputs": [],
   "source": [
    "# wrap datasets in dataloaders to get batches\n",
    "# used for iteration\n",
    "from torch.utils.data import DataLoader\n",
    "\n",
    "batch_size = 16\n",
    "\n",
    "train_loader = DataLoader(train_dataset, batch_size=batch_size, shuffle=True)\n",
    "test_loader = DataLoader(test_dataset, batch_size=batch_size, shuffle=False)"
   ]
  },
  {
   "cell_type": "code",
   "execution_count": 18,
   "id": "7b863d07-aecb-4379-be26-acb0f9910224",
   "metadata": {
    "tags": []
   },
   "outputs": [
    {
     "name": "stdout",
     "output_type": "stream",
     "text": [
      "torch.Size([16, 7, 1]) torch.Size([16, 1])\n"
     ]
    }
   ],
   "source": [
    "#gives predicted outputs of arrays\n",
    "for _, batch in enumerate(train_loader):\n",
    "    x_batch, y_batch = batch[0].to(device), batch[1].to(device)\n",
    "    print(x_batch.shape, y_batch.shape)\n",
    "    break"
   ]
  },
  {
   "cell_type": "code",
   "execution_count": 19,
   "id": "38e3f457-ccb7-4ece-b7c7-c1fcb6424536",
   "metadata": {
    "tags": []
   },
   "outputs": [
    {
     "data": {
      "text/plain": [
       "LSTM(\n",
       "  (lstm): LSTM(1, 12, batch_first=True)\n",
       "  (fc): Linear(in_features=12, out_features=1, bias=True)\n",
       ")"
      ]
     },
     "execution_count": 19,
     "metadata": {},
     "output_type": "execute_result"
    }
   ],
   "source": [
    "#takes in number of features, dimensions and number of stacked layers (more layers = more complexity in model)\n",
    "class LSTM(nn.Module):\n",
    "    def __init__(self, input_size, hidden_size, num_stacked_layers):\n",
    "        super().__init__()\n",
    "        self.hidden_size = hidden_size\n",
    "        self.num_stacked_layers = num_stacked_layers\n",
    "        \n",
    "        #initally use 1 layer to prevent overfitting in training data\n",
    "        self.lstm = nn.LSTM(input_size, hidden_size, num_stacked_layers, \n",
    "                            batch_first=True)\n",
    "        \n",
    "        #maps hidden layer to 1. Needed to predict final closing value\n",
    "        self.fc = nn.Linear(hidden_size, 1)\n",
    "\n",
    "    def forward(self, x):\n",
    "        batch_size = x.size(0)\n",
    "        #initialise LSTM with default h0 and c0\n",
    "        h0 = torch.zeros(self.num_stacked_layers, batch_size, self.hidden_size).to(device)\n",
    "        c0 = torch.zeros(self.num_stacked_layers, batch_size, self.hidden_size).to(device)\n",
    "        \n",
    "        out, _ = self.lstm(x, (h0, c0))\n",
    "        #output is gotten from passing varibles in fully connected layer\n",
    "        out = self.fc(out[:, -1, :])\n",
    "        return out\n",
    "\n",
    "#initial model has 1 input size, 4 hidden sizes and 1 stacked layer\n",
    "#model = LSTM(1, 4, 1) MAPE: 2.61\n",
    "#Attempt 2:  Increase to 8 hidden units and 2 stacked layers\n",
    "#model = LSTM(1, 8, 2)  MAPE: 2.89\n",
    "#Attempt 3:  Increase to 16 hidden units and 4 stacked layers\n",
    "#model = LSTM(1, 16, 4) MAPE: 3.10\n",
    "#Attempt 4: Increase to 32 hidden unit and 8 stacked layers <----overfitted\n",
    "#model = LSTM(1, 32, 8) MAPE: 1.87\n",
    "#Attempt 5:  Increase to 24 hidden units and 6 stacked layers\n",
    "#model = LSTM(1, 24, 6) MAPE: 2.98\n",
    "#Attempt 6: 16 hidden units and 1 stacked layer\n",
    "#model = LSTM(1, 16, 1) MAPE: 1.56\n",
    "#Attempt 7: 12 hidden units and 1 stacked layer. MAPE of 1.079\n",
    "model = LSTM(1,12,1)\n",
    "model.to(device)\n",
    "model"
   ]
  },
  {
   "cell_type": "code",
   "execution_count": 20,
   "id": "df5de0d6-6408-4ab3-a280-4a51477e3d20",
   "metadata": {},
   "outputs": [],
   "source": [
    "#sets model to training mode\n",
    "def train_one_epoch():\n",
    "    model.train(True)\n",
    "    print(f'Epoch: {epoch + 1}')\n",
    "    running_loss = 0.0\n",
    "    \n",
    "    for batch_index, batch in enumerate(train_loader):\n",
    "        #puts x and y batch onto device we're using \n",
    "        x_batch, y_batch = batch[0].to(device), batch[1].to(device)\n",
    "        \n",
    "        output = model(x_batch)\n",
    "        #comparing model's output to ground truth\n",
    "        #loss is a tensor with a single value\n",
    "        loss = loss_function(output, y_batch)\n",
    "        running_loss += loss.item()\n",
    "        \n",
    "        #zero out gradients \n",
    "        optimizer.zero_grad()\n",
    "        #backwards pass \n",
    "        loss.backward()\n",
    "        optimizer.step()\n",
    "\n",
    "        #every 100 batches get avg loss across batches and print\n",
    "        if batch_index % 100 == 99:  # print every 100 batches\n",
    "            avg_loss_across_batches = running_loss / 100\n",
    "            print('Batch {0}, Loss: {1:.3f}'.format(batch_index+1,\n",
    "                                                    avg_loss_across_batches))\n",
    "            running_loss = 0.0\n",
    "    print()"
   ]
  },
  {
   "cell_type": "code",
   "execution_count": 21,
   "id": "6342d9f3-10e5-4f57-9e9d-9b9397ac0139",
   "metadata": {
    "tags": []
   },
   "outputs": [],
   "source": [
    "#sets model to validate mode\n",
    "def validate_one_epoch():\n",
    "    model.train(False)\n",
    "    running_loss = 0.0\n",
    "    \n",
    "    for batch_index, batch in enumerate(test_loader):\n",
    "        x_batch, y_batch = batch[0].to(device), batch[1].to(device)\n",
    "        \n",
    "        #don't need to calcualte gradient as there's no model updates\n",
    "        with torch.no_grad():\n",
    "            output = model(x_batch)\n",
    "            #compare output to ground truth\n",
    "            loss = loss_function(output, y_batch)\n",
    "            running_loss += loss.item()\n",
    "    #average loss value across all batches\n",
    "    avg_loss_across_batches = running_loss / len(test_loader)\n",
    "    \n",
    "    print('Val Loss: {0:.3f}'.format(avg_loss_across_batches))\n",
    "    print('***************************************************')\n",
    "    print()"
   ]
  },
  {
   "cell_type": "code",
   "execution_count": 22,
   "id": "46cf3fd4-67a2-4349-8a55-5b292099537a",
   "metadata": {
    "tags": []
   },
   "outputs": [
    {
     "name": "stdout",
     "output_type": "stream",
     "text": [
      "Epoch: 1\n",
      "Batch 100, Loss: 0.130\n",
      "Batch 200, Loss: 0.003\n",
      "Batch 300, Loss: 0.002\n",
      "\n",
      "Val Loss: 0.016\n",
      "***************************************************\n",
      "\n",
      "Epoch: 2\n",
      "Batch 100, Loss: 0.001\n",
      "Batch 200, Loss: 0.001\n",
      "Batch 300, Loss: 0.001\n",
      "\n",
      "Val Loss: 0.008\n",
      "***************************************************\n",
      "\n",
      "Epoch: 3\n",
      "Batch 100, Loss: 0.001\n",
      "Batch 200, Loss: 0.001\n",
      "Batch 300, Loss: 0.001\n",
      "\n",
      "Val Loss: 0.005\n",
      "***************************************************\n",
      "\n",
      "Epoch: 4\n",
      "Batch 100, Loss: 0.001\n",
      "Batch 200, Loss: 0.000\n",
      "Batch 300, Loss: 0.000\n",
      "\n",
      "Val Loss: 0.002\n",
      "***************************************************\n",
      "\n",
      "Epoch: 5\n",
      "Batch 100, Loss: 0.000\n",
      "Batch 200, Loss: 0.000\n",
      "Batch 300, Loss: 0.000\n",
      "\n",
      "Val Loss: 0.001\n",
      "***************************************************\n",
      "\n",
      "Epoch: 6\n",
      "Batch 100, Loss: 0.000\n",
      "Batch 200, Loss: 0.000\n",
      "Batch 300, Loss: 0.000\n",
      "\n",
      "Val Loss: 0.001\n",
      "***************************************************\n",
      "\n",
      "Epoch: 7\n",
      "Batch 100, Loss: 0.000\n",
      "Batch 200, Loss: 0.000\n",
      "Batch 300, Loss: 0.000\n",
      "\n",
      "Val Loss: 0.001\n",
      "***************************************************\n",
      "\n",
      "Epoch: 8\n",
      "Batch 100, Loss: 0.000\n",
      "Batch 200, Loss: 0.000\n",
      "Batch 300, Loss: 0.000\n",
      "\n",
      "Val Loss: 0.001\n",
      "***************************************************\n",
      "\n",
      "Epoch: 9\n",
      "Batch 100, Loss: 0.000\n",
      "Batch 200, Loss: 0.000\n",
      "Batch 300, Loss: 0.000\n",
      "\n",
      "Val Loss: 0.001\n",
      "***************************************************\n",
      "\n",
      "Epoch: 10\n",
      "Batch 100, Loss: 0.000\n",
      "Batch 200, Loss: 0.000\n",
      "Batch 300, Loss: 0.000\n",
      "\n",
      "Val Loss: 0.001\n",
      "***************************************************\n",
      "\n"
     ]
    }
   ],
   "source": [
    "learning_rate = 0.001\n",
    "#10 epochs is all that is necessary as any more will cause overfitting\n",
    "num_epochs = 10\n",
    "#trying to minimise mean squared error\n",
    "loss_function = nn.MSELoss()\n",
    "optimizer = torch.optim.Adam(model.parameters(), lr=learning_rate)\n",
    "\n",
    "for epoch in range(num_epochs):\n",
    "    train_one_epoch()\n",
    "    validate_one_epoch()"
   ]
  },
  {
   "cell_type": "code",
   "execution_count": 23,
   "id": "d8d0dae6-1795-4674-8823-288bcc515c92",
   "metadata": {
    "tags": []
   },
   "outputs": [
    {
     "data": {
      "image/png": "[encoded data removed]",
      "text/plain": [
       "<Figure size 640x480 with 1 Axes>"
      ]
     },
     "metadata": {},
     "output_type": "display_data"
    }
   ],
   "source": [
    "#no gradients for predictions\n",
    "with torch.no_grad():\n",
    "    #makes sure it on the device and is put to the CPU (numpy doesn't use GPU)\n",
    "    predicted = model(X_train.to(device)).to('cpu').numpy()\n",
    "\n",
    "plt.plot(y_train, label='Actual Close')\n",
    "plt.plot(predicted, label='Predicted Close')\n",
    "plt.xlabel('Day')\n",
    "plt.ylabel('Close')\n",
    "plt.legend()\n",
    "plt.show()"
   ]
  },
  {
   "cell_type": "code",
   "execution_count": 24,
   "id": "3e3fbb5e-658d-4589-a9d6-639db59ad2b9",
   "metadata": {
    "tags": []
   },
   "outputs": [
    {
     "data": {
      "text/plain": [
       "array([ 273.72917402,  273.3079596 ,  272.74629954, ..., 1937.60013218,\n",
       "       1935.41076043, 1935.46802893])"
      ]
     },
     "execution_count": 24,
     "metadata": {},
     "output_type": "execute_result"
    }
   ],
   "source": [
    "#above data still includes scalar begins at -1\n",
    "#do opposite of earlier transform\n",
    "train_predictions = predicted.flatten()\n",
    "\n",
    "#lookback+1 is the length of the whole dataset\n",
    "dummies = np.zeros((X_train.shape[0], lookback+1))\n",
    "dummies[:, 0] = train_predictions\n",
    "dummies = scaler.inverse_transform(dummies)\n",
    "\n",
    "#return in right scale\n",
    "train_predictions = dc(dummies[:, 0])\n",
    "train_predictions"
   ]
  },
  {
   "cell_type": "code",
   "execution_count": 25,
   "id": "44214f13-964a-41b8-9f16-65eb6cdd896a",
   "metadata": {
    "tags": []
   },
   "outputs": [
    {
     "data": {
      "text/plain": [
       "array([ 273.10001675,  272.89997512,  272.80001556, ..., 1922.90001221,\n",
       "       1929.49997733, 1927.8000522 ])"
      ]
     },
     "execution_count": 25,
     "metadata": {},
     "output_type": "execute_result"
    }
   ],
   "source": [
    "#first column is no y_train.flatter()\n",
    "dummies = np.zeros((X_train.shape[0], lookback+1))\n",
    "dummies[:, 0] = y_train.flatten()\n",
    "dummies = scaler.inverse_transform(dummies)\n",
    "\n",
    "new_y_train = dc(dummies[:, 0])\n",
    "new_y_train"
   ]
  },
  {
   "cell_type": "code",
   "execution_count": 26,
   "id": "3d82eb6b-eeb1-4e61-ad3e-161829f8b8f1",
   "metadata": {
    "tags": []
   },
   "outputs": [
    {
     "data": {
      "image/png": "[encoded data removed]",
      "text/plain": [
       "<Figure size 640x480 with 1 Axes>"
      ]
     },
     "metadata": {},
     "output_type": "display_data"
    }
   ],
   "source": [
    "#same graph as earlier with different y_train and predictions\n",
    "plt.plot(new_y_train, label='Actual Close')\n",
    "plt.plot(train_predictions, label='Predicted Close')\n",
    "plt.xlabel('Day')\n",
    "plt.ylabel('Close')\n",
    "plt.legend()\n",
    "plt.show()\n"
   ]
  },
  {
   "cell_type": "code",
   "execution_count": 27,
   "id": "a1ca2cd9-e6cb-4802-bc76-0b8327bb0888",
   "metadata": {
    "tags": []
   },
   "outputs": [
    {
     "data": {
      "text/plain": [
       "array([1934.98531978, 1931.20265869, 1912.69893022, 1899.61972322,\n",
       "       1891.51932337, 1887.54593061, 1881.76542569, 1877.09421471,\n",
       "       1871.17847038, 1868.15659224, 1859.92818044, 1855.96887512,\n",
       "       1852.76925025, 1848.6207445 , 1845.48818809, 1839.28371251,\n",
       "       1831.9570193 , 1829.18620383, 1830.81948924, 1835.1145656 ,\n",
       "       1837.51671893, 1843.69357088, 1848.59642836, 1841.95769216,\n",
       "       1835.86377235, 1835.84233495, 1845.63984244, 1868.09999748,\n",
       "       1883.75077458, 1901.46162523, 1912.54170216, 1934.41851473,\n",
       "       1952.5420661 , 1953.08375875, 1954.4424616 , 1968.4567683 ,\n",
       "       1975.23515389, 1971.45561653, 1973.14837544, 1972.71662606,\n",
       "       1976.83217946, 1976.30083801, 1979.41324326, 1993.05074159,\n",
       "       2003.50417248, 2008.34596397, 2005.3555682 , 2006.83052305,\n",
       "       2009.50542144, 2019.40925847, 2015.51977785, 2010.29738051,\n",
       "       2010.23098579, 2007.00679978, 2007.58518102, 2000.06383616,\n",
       "       1996.79769408, 1996.63287104, 1994.32479731, 1993.63383906,\n",
       "       1993.48898343, 1991.47613342, 1999.08880164, 2008.78843205,\n",
       "       2021.48978944, 2022.70216668, 2025.59070415, 2030.22975902,\n",
       "       2031.82035337, 2027.75588225, 2024.20486766, 2022.34704072,\n",
       "       2013.21807408, 2003.83002107, 1989.84829923, 1985.89113765,\n",
       "       1982.47885371, 1979.5764738 , 1975.1051207 , 1966.84804403,\n",
       "       1961.07691032, 1961.04989918, 1962.57857005, 1968.12644848,\n",
       "       1965.38558412, 1965.05158932, 1967.13573403, 1961.96558271,\n",
       "       1963.58588318, 1964.44062322, 1963.10550152, 1959.44282866,\n",
       "       1959.56704312, 1960.41712818, 1961.53995831, 1955.51739444,\n",
       "       1950.33462568, 1940.61184286, 1935.15877902, 1932.38018483,\n",
       "       1927.79306973, 1924.23366393, 1921.27909925, 1922.75448284,\n",
       "       1924.47241539, 1925.10145016, 1922.41791555, 1925.55567819,\n",
       "       1927.6387204 , 1930.97578967, 1940.49699961, 1948.66263043,\n",
       "       1955.02807031, 1957.45129355, 1965.701939  , 1971.81460123,\n",
       "       1973.33230839, 1972.68275496, 1970.85549164, 1969.83696981,\n",
       "       1970.95263372, 1964.74178817, 1964.38457972, 1967.34882185,\n",
       "       1961.26261951, 1955.63248269, 1949.79648551, 1947.62432494,\n",
       "       1944.69720014, 1939.66051199, 1933.52022613, 1929.21620731,\n",
       "       1925.68540513, 1922.53851628, 1917.90485139, 1912.85076831,\n",
       "       1905.8244438 , 1901.30298842, 1900.20380069, 1900.60278146,\n",
       "       1907.69831817, 1913.41279588, 1915.80545549, 1919.51124817,\n",
       "       1927.38410526, 1935.28642347, 1939.18741904, 1942.04312665,\n",
       "       1940.119395  , 1936.04739017, 1932.34680372, 1929.4711287 ,\n",
       "       1928.79291039, 1925.14260998, 1921.91058401, 1920.08283069,\n",
       "       1922.87324608, 1927.37932778, 1931.016582  , 1937.68594306,\n",
       "       1935.27111104, 1934.87458026, 1931.73602137, 1924.22986644,\n",
       "       1909.90686109, 1895.7064777 , 1881.47130447, 1866.08292123,\n",
       "       1853.27425431, 1842.69446521, 1835.20429646, 1834.69757741,\n",
       "       1840.88502557, 1849.70492605, 1860.29935383, 1867.2550574 ,\n",
       "       1889.17370355, 1903.65442697, 1914.16567761, 1930.56357896,\n",
       "       1946.04787928, 1960.97835949, 1969.75017893, 1974.53562067,\n",
       "       1980.32384306, 1984.97018665, 1987.96566615, 1991.9645388 ,\n",
       "       1991.63593397, 1989.52980061, 1989.68678368, 1991.27064056,\n",
       "       1989.63876389, 1984.14613272, 1975.53105135, 1972.82540559,\n",
       "       1961.92858787, 1957.28218303, 1958.78341402, 1960.09924206,\n",
       "       1968.40096979, 1974.43896859, 1977.73028431, 1986.5125162 ,\n",
       "       1990.41804426, 1992.80249641, 1997.32909677, 2002.95029113,\n",
       "       2014.94795033, 2026.01645105, 2031.39393272, 2044.32191413,\n",
       "       2040.94013255, 2035.91483685, 2034.843089  , 2033.28906075,\n",
       "       2023.25359804, 2010.00307553, 1999.69327527, 1994.27751251,\n",
       "       2003.98118541, 2009.17761286, 2014.99756261, 2023.4693196 ,\n",
       "       2028.91582972, 2033.80270102, 2041.83192868, 2047.25357141,\n",
       "       2057.8212943 , 2063.42025501, 2064.05810974, 2064.83206139,\n",
       "       2056.74464648, 2052.18778875, 2048.6953289 , 2041.43264166,\n",
       "       2036.25783537, 2031.50503974, 2026.12449558, 2031.69087143,\n",
       "       2030.31324241, 2022.83807984, 2021.8809915 , 2023.46717586,\n",
       "       2022.9286682 , 2023.61889145, 2021.07518999, 2020.47965883,\n",
       "       2020.29223464, 2022.12831792, 2025.23937567, 2032.45030689,\n",
       "       2039.20370258, 2039.7300828 , 2036.91167628, 2036.91663751,\n",
       "       2036.80399925, 2035.64889051, 2032.05885983, 2028.0221961 ,\n",
       "       2018.29463581, 2010.24299074, 2007.41153803, 2008.21060206,\n",
       "       2013.71964816, 2016.95332788, 2018.93530803, 2025.99789238,\n",
       "       2028.3667871 , 2031.13411135, 2032.59791875, 2036.859614  ,\n",
       "       2051.44972945, 2070.82344914, 2089.29238775, 2107.56636847,\n",
       "       2122.81853229, 2138.98454215, 2151.17813924, 2153.20807793,\n",
       "       2157.456972  , 2156.9154631 , 2154.37966285, 2153.01483502,\n",
       "       2150.47584979, 2149.042851  , 2154.7702524 , 2152.73461749,\n",
       "       2155.67509473, 2158.29474586, 2163.98472367, 2175.146079  ,\n",
       "       2188.23802594, 2203.70774882, 2223.79815165, 2236.96708951])"
      ]
     },
     "execution_count": 27,
     "metadata": {},
     "output_type": "execute_result"
    }
   ],
   "source": [
    "#convert to vector of predictions \n",
    "test_predictions = model(X_test.to(device)).detach().cpu().numpy().flatten()\n",
    "\n",
    "dummies = np.zeros((X_test.shape[0], lookback+1))\n",
    "dummies[:, 0] = test_predictions\n",
    "dummies = scaler.inverse_transform(dummies)\n",
    "\n",
    "test_predictions = dc(dummies[:, 0])\n",
    "test_predictions"
   ]
  },
  {
   "cell_type": "code",
   "execution_count": 28,
   "id": "70635d39-dab3-4aea-8c8d-081a5cd65bb2",
   "metadata": {
    "tags": []
   },
   "outputs": [
    {
     "data": {
      "text/plain": [
       "array([1916.3000471 , 1862.90001755, 1866.19996948, 1871.69995061,\n",
       "       1877.40003463, 1866.19996948, 1862.80005798, 1851.89999402,\n",
       "       1854.00000241, 1834.19992332, 1842.00001573, 1840.40005017,\n",
       "       1832.99997978, 1832.00001662, 1817.99998111, 1808.80002603,\n",
       "       1817.00001795, 1828.90004507, 1837.69997814, 1833.50002261,\n",
       "       1847.69997725, 1847.90001888, 1813.9000464 , 1812.69998036,\n",
       "       1829.30006708, 1862.00001395, 1911.69994706, 1906.19996592,\n",
       "       1926.59998616, 1918.99999663, 1969.80003622, 1979.19997168,\n",
       "       1937.99997045, 1946.80002601, 1993.80007083, 1982.09996285,\n",
       "       1952.40002796, 1972.40002619, 1966.10000102, 1980.30007816,\n",
       "       1968.99999219, 1983.90003129, 2022.19998011, 2020.90001575,\n",
       "       2011.90004105, 1989.09994998, 2004.80003311, 2010.90001664,\n",
       "       2041.30003599, 2002.19992064, 1994.19997035, 2007.40002308,\n",
       "       1995.19993351, 2007.60000346, 1979.49997288, 1989.09994998,\n",
       "       1993.99998997, 1985.69997723, 1989.89999401, 1990.09997439,\n",
       "       1983.40004971, 2014.30005064, 2028.59996484, 2048.00002192,\n",
       "       2017.40002219, 2026.30003732, 2036.19995437, 2030.49999285,\n",
       "       2014.69995015, 2014.49996977, 2018.00002458, 1988.40004927,\n",
       "       1980.69997767, 1956.50002393, 1978.69992885, 1974.80003577,\n",
       "       1972.40002619, 1962.80004909, 1943.09999082, 1944.09995398,\n",
       "       1958.00002992, 1963.90003307, 1978.00002814, 1952.40002796,\n",
       "       1958.00002992, 1965.49999863, 1942.6999688 , 1963.59997062,\n",
       "       1962.19992419, 1955.30001913, 1944.59999681, 1955.30001913,\n",
       "       1957.80004953, 1958.40005193, 1935.50000129, 1933.30003334,\n",
       "       1912.69997147, 1919.0999562 , 1923.69993374, 1913.99999708,\n",
       "       1912.30007195, 1909.1999779 , 1921.10000502, 1921.69994617,\n",
       "       1919.59999903, 1908.69993507, 1926.19996414, 1925.0000206 ,\n",
       "       1931.30004577, 1956.19996148, 1959.19997346, 1960.09997706,\n",
       "       1952.40002796, 1977.19992286, 1977.49998531, 1968.30003023,\n",
       "       1964.30005508, 1960.30001869, 1962.09996463, 1968.90003262,\n",
       "       1945.40004084, 1960.4000395 , 1970.49999818, 1940.69998123,\n",
       "       1937.4000293 , 1932.00000773, 1939.59999725, 1933.50001372,\n",
       "       1924.09995576, 1915.4000435 , 1914.40001909, 1912.9000131 ,\n",
       "       1910.59996308, 1902.49999198, 1896.09994599, 1884.09995931,\n",
       "       1886.09994688, 1893.30003689, 1896.40000844, 1918.50001505,\n",
       "       1918.19995261, 1911.10000591, 1917.90001266, 1936.5000257 ,\n",
       "       1944.30005686, 1938.19995083, 1939.80003888, 1926.19996414,\n",
       "       1918.09999304, 1917.49999064, 1918.39999424, 1923.30003423,\n",
       "       1911.30004754, 1909.09995709, 1910.00002193, 1923.69993374,\n",
       "       1931.50002615, 1932.00000773, 1945.59995997, 1919.19997702,\n",
       "       1925.40004261, 1916.59998705, 1900.40004484, 1871.59999105,\n",
       "       1860.40004839, 1848.09999926, 1830.00002904, 1824.59994622,\n",
       "       1818.50002394, 1816.59999594, 1830.19994818, 1849.49998444,\n",
       "       1860.99998954, 1872.80005709, 1869.30006353, 1927.40003019,\n",
       "       1921.10000502, 1922.69997058, 1955.30001913, 1968.40005104,\n",
       "       1982.49998486, 1976.30004177, 1975.00001616, 1984.09995042,\n",
       "       1987.19992197, 1988.5999684 , 1996.19995792, 1985.1999344 ,\n",
       "       1978.80007217, 1985.59995641, 1991.50002081, 1981.59998127,\n",
       "       1966.80002424, 1951.50002437, 1964.19997302, 1932.59994888,\n",
       "       1945.5000004 , 1961.80002468, 1960.09997706, 1983.90003129,\n",
       "       1981.59998127, 1977.69996569, 1999.30005197, 1991.4       ,\n",
       "       1991.50002081, 2002.19992064, 2011.80002024, 2039.69994793,\n",
       "       2047.09995707, 2038.09998237, 2070.99997087, 2024.09994687,\n",
       "       2018.50000616, 2030.49999285, 2029.9000517 , 1998.30002756,\n",
       "       1978.00002814, 1977.80004776, 1982.30006573, 2030.1999304 ,\n",
       "       2021.09999613, 2026.30003732, 2038.40004482, 2034.50002924,\n",
       "       2039.09994553, 2057.10007868, 2058.19994016, 2081.89991233,\n",
       "       2073.89990079, 2062.39989569, 2064.39988326, 2034.19996679,\n",
       "       2042.3000604 , 2042.40001997, 2026.59997727, 2026.39999689,\n",
       "       2021.69993728, 2014.30005064, 2046.69993506, 2025.99997487,\n",
       "       2002.6000039 , 2018.59996573, 2026.5000177 , 2019.80003177,\n",
       "       2023.69992485, 2013.90002862, 2016.90004061, 2016.80001979,\n",
       "       2025.19993084, 2031.50001726, 2048.39992143, 2053.00002147,\n",
       "       2036.0999948 , 2025.69997367, 2034.50002924, 2035.19992996,\n",
       "       2032.19997922, 2023.30002534, 2018.19994372, 1992.90000599,\n",
       "       1990.30007727, 2002.09996107, 2011.50001904, 2027.49998086,\n",
       "       2022.30006218, 2019.69994971, 2038.59996395, 2028.50000528,\n",
       "       2033.99998641, 2033.00002325, 2045.6999719 , 2086.89991189,\n",
       "       2117.69995325, 2133.49999594, 2150.30006305, 2158.00001214,\n",
       "       2178.60007401, 2182.50002834, 2160.39989923, 2175.39989789,\n",
       "       2163.0000117 , 2157.30005018, 2160.69996168, 2156.30002577,\n",
       "       2157.89993007, 2182.39988502, 2158.10009421, 2174.80007925,\n",
       "       2175.60012328, 2190.60012194, 2217.39988191, 2236.49999904,\n",
       "       2261.00001524, 2294.39992407, 2288.80004461, 2310.30004883])"
      ]
     },
     "execution_count": 28,
     "metadata": {},
     "output_type": "execute_result"
    }
   ],
   "source": [
    "#make ground truth proper scale\n",
    "dummies = np.zeros((X_test.shape[0], lookback+1))\n",
    "dummies[:, 0] = y_test.flatten()\n",
    "dummies = scaler.inverse_transform(dummies)\n",
    "\n",
    "new_y_test = dc(dummies[:, 0])\n",
    "new_y_test"
   ]
  },
  {
   "cell_type": "code",
   "execution_count": 29,
   "id": "d1f438e7-08f0-4974-87fa-4262bcf714bc",
   "metadata": {
    "tags": []
   },
   "outputs": [
    {
     "data": {
      "image/png": "[encoded data removed]",
      "text/plain": [
       "<Figure size 640x480 with 1 Axes>"
      ]
     },
     "metadata": {},
     "output_type": "display_data"
    }
   ],
   "source": [
    "#revised graph with more accurate axises \n",
    "plt.plot(new_y_test, label='Actual Close')\n",
    "plt.plot(test_predictions, label='Predicted Close')\n",
    "plt.title(\"Gold Closing Price Prediction using LSTM\")\n",
    "plt.xlabel('Day')\n",
    "plt.ylabel('Close')\n",
    "plt.legend()\n",
    "plt.show()"
   ]
  },
  {
   "cell_type": "code",
   "execution_count": 30,
   "id": "21e570b1-903a-4ca5-b385-499d9a8c6671",
   "metadata": {},
   "outputs": [
    {
     "name": "stdout",
     "output_type": "stream",
     "text": [
      "Root Mean Square Error (RMSE): 24.575348303325\n",
      "Mean Absolute Error (MAE): 18.5674592267923\n",
      "Mean Absolute Percentage Error (MAPE): 0.9347127543411373\n"
     ]
    }
   ],
   "source": [
    "from math import sqrt\n",
    "from sklearn.metrics import mean_squared_error, mean_absolute_error\n",
    "import numpy as np\n",
    "\n",
    "# For each model, replace `actuals` and `predictions` with the corresponding variables\n",
    "actuals = new_y_test\n",
    "predictions = test_predictions\n",
    "\n",
    "# Calculate the RMSE\n",
    "rmse = sqrt(mean_squared_error(actuals, predictions))\n",
    "print(\"Root Mean Square Error (RMSE):\", rmse)\n",
    "\n",
    "# Calculate Mean Absolute Error (MAE)\n",
    "mae = mean_absolute_error(actuals, predictions)\n",
    "print(\"Mean Absolute Error (MAE):\", mae)\n",
    "\n",
    "# Calculate Mean Absolute Percentage Error (MAPE)\n",
    "mape = np.mean(np.abs((actuals - predictions) / actuals)) * 100\n",
    "print(\"Mean Absolute Percentage Error (MAPE):\", mape)\n"
   ]
  },
  {
   "cell_type": "code",
   "execution_count": 31,
   "id": "079e0f53-16c4-43d3-925b-6c2f216f0728",
   "metadata": {
    "tags": []
   },
   "outputs": [
    {
     "name": "stdout",
     "output_type": "stream",
     "text": [
      "Training - RMSE: 0.017, MAE: 0.012, MAPE: 1154.810%\n",
      "Validation - RMSE: 0.024, MAE: 0.018, MAPE: 2.681%\n"
     ]
    }
   ],
   "source": [
    "#comparing the RMSE, MAE and MAPE for Training vs Validation data to check for overfitting\n",
    "from sklearn.metrics import mean_squared_error, mean_absolute_error\n",
    "import numpy as np\n",
    "import torch\n",
    "\n",
    "def evaluate_model(model, data_loader):\n",
    "    model.eval()  # Set the model to evaluation mode\n",
    "    predictions, actuals = [], []\n",
    "    with torch.no_grad():\n",
    "        for inputs, targets in data_loader:\n",
    "            inputs, targets = inputs.to(device), targets.to(device)\n",
    "            outputs = model(inputs)\n",
    "            predictions.extend(outputs.view(-1).tolist())\n",
    "            actuals.extend(targets.view(-1).tolist())\n",
    "\n",
    "    mse = mean_squared_error(actuals, predictions)\n",
    "    rmse = np.sqrt(mse)\n",
    "    mae = mean_absolute_error(actuals, predictions)\n",
    "    mape = np.mean(np.abs((np.array(actuals) - np.array(predictions)) / np.array(actuals))) * 100\n",
    "    \n",
    "    return rmse, mae, mape\n",
    "\n",
    "# Assuming 'train_loader' and 'test_loader' are already defined\n",
    "# Evaluate the model on training data\n",
    "train_rmse, train_mae, train_mape = evaluate_model(model, train_loader)\n",
    "print(f'Training - RMSE: {train_rmse:.3f}, MAE: {train_mae:.3f}, MAPE: {train_mape:.3f}%')\n",
    "\n",
    "# Evaluate the model on test (validation) data\n",
    "val_rmse, val_mae, val_mape = evaluate_model(model, test_loader)  # Use test_loader as validation loader\n",
    "print(f'Validation - RMSE: {val_rmse:.3f}, MAE: {val_mae:.3f}, MAPE: {val_mape:.3f}%')\n"
   ]
  },
  {
   "cell_type": "code",
   "execution_count": 32,
   "id": "979566db-d7be-40bb-bb9f-5685aab8a9a2",
   "metadata": {},
   "outputs": [
    {
     "name": "stdout",
     "output_type": "stream",
     "text": [
      "The day before today for GC=F is: Date     2024-04-04 00:00:00\n",
      "Close            2288.800049\n",
      "Name: 5919, dtype: object\n",
      "The current closing price for GC=F is: 2288.800048828125\n"
     ]
    },
    {
     "data": {
      "image/png": "[encoded data removed]",
      "text/plain": [
       "<Figure size 640x480 with 1 Axes>"
      ]
     },
     "metadata": {},
     "output_type": "display_data"
    },
    {
     "name": "stdout",
     "output_type": "stream",
     "text": [
      "Root Mean Square Error (RMSE): 24.575348303325\n",
      "Mean Absolute Error (MAE): 18.5674592267923\n",
      "Mean Absolute Percentage Error (MAPE): 0.9347127543411373\n",
      "Predicted Gold price for tomorrow: 2236.6041235862253\n"
     ]
    },
    {
     "data": {
      "text/plain": [
       "<Figure size 640x480 with 0 Axes>"
      ]
     },
     "metadata": {},
     "output_type": "display_data"
    }
   ],
   "source": [
    "from math import sqrt\n",
    "from sklearn.metrics import mean_squared_error, mean_absolute_error\n",
    "import numpy as np\n",
    "import pandas_datareader as pdr\n",
    "from datetime import datetime, timedelta\n",
    "import yfinance as yf\n",
    "import datetime as dt\n",
    "# Get the last row of the dataframe, which corresponds to the most recent closing price\n",
    "yesterday = data.iloc[-2]\n",
    "print(f\"The day before today for {symbol} is: {yesterday}\")\n",
    "current_price = yesterday['Close']\n",
    "print(f\"The current closing price for {symbol} is: {current_price}\")\n",
    "\n",
    "#revised graph with more accurate axises \n",
    "plt.plot(new_y_test, label='Actual Close')\n",
    "plt.plot(test_predictions, label='Predicted Close')\n",
    "plt.title(\"Gold Closing Price Prediction using LSTM\")\n",
    "plt.xlabel('Day')\n",
    "plt.ylabel('Close')\n",
    "plt.legend()\n",
    "#plt.savefig(r'C:\\Users\\jackc\\Documents\\FYP_ML_Predict\\static\\images\\LSTM_Gold_PNG.png')\n",
    "plt.savefig(r'C:\\Users\\15105006\\Desktop\\ML_Project\\static\\images\\LSTM_Gold_PNG.png')\n",
    "plt.show()\n",
    "plt.clf()\n",
    "\n",
    "# For each model, replace `actuals` and `predictions` with the corresponding variables\n",
    "actuals = new_y_test\n",
    "predictions = test_predictions\n",
    "\n",
    "# Calculate the RMSE\n",
    "rmse = sqrt(mean_squared_error(actuals, predictions))\n",
    "print(\"Root Mean Square Error (RMSE):\", rmse)\n",
    "\n",
    "# Calculate Mean Absolute Error (MAE)\n",
    "mae = mean_absolute_error(actuals, predictions)\n",
    "print(\"Mean Absolute Error (MAE):\", mae)\n",
    "\n",
    "# Calculate Mean Absolute Percentage Error (MAPE)\n",
    "mape = np.mean(np.abs((actuals - predictions) / actuals)) * 100\n",
    "print(\"Mean Absolute Percentage Error (MAPE):\", mape)\n",
    "# Correcting the approach to reshape and inverse transform the prediction\n",
    "latest_input = shifted_df_as_np[-1, 1:].reshape(1, lookback, 1)  # Reshape for LSTM: [1, lookback, 1]\n",
    "\n",
    "# Convert to PyTorch tensor\n",
    "latest_input_tensor = torch.tensor(latest_input).float().to(device)\n",
    "\n",
    "# Make the prediction\n",
    "model.eval()  # Ensure the model is in evaluation mode\n",
    "with torch.no_grad():\n",
    "    prediction_scaled = model(latest_input_tensor).cpu().numpy()\n",
    "\n",
    "# Prepare the data for inverse transformation correctly\n",
    "prediction_scaled_expanded = np.expand_dims(prediction_scaled.flatten(), axis=0)\n",
    "dummy_features = np.zeros((1, lookback))\n",
    "combined_prediction = np.concatenate((prediction_scaled_expanded, dummy_features), axis=1)\n",
    "\n",
    "# Inverse transform the prediction to get it back into the original scale\n",
    "next_day_price = scaler.inverse_transform(combined_prediction)[0, 0]\n",
    "\n",
    "print(f'Predicted Gold price for tomorrow: {next_day_price}')\n",
    "import pickle\n",
    "model_info = {\n",
    "    'current_price': current_price,\n",
    "    'next_day_price': next_day_price,\n",
    "    'rmse': rmse,\n",
    "    'mae': mae,\n",
    "    'mape': mape\n",
    "}\n",
    "#with open(r'C:\\Users\\jackc\\Documents\\FYP_ML_Predict\\models\\LSTM_Gold.pkl', 'wb') as pkl:\n",
    " #   pickle.dump(model_info, pkl)\n",
    "    \n",
    "with open(r'C:\\Users\\15105006\\Desktop\\ML_Project\\models\\LSTM_Gold.pkl', 'wb') as pkl:\n",
    "    pickle.dump(model_info, pkl)\n",
    "\n"
   ]
  },
  {
   "cell_type": "code",
   "execution_count": 33,
   "id": "e847c073-e9b3-4950-a9ea-33a6ce4940fb",
   "metadata": {},
   "outputs": [
    {
     "ename": "NameError",
     "evalue": "name 'last_7_days_scaled' is not defined",
     "output_type": "error",
     "traceback": [
      "\u001b[1;31m---------------------------------------------------------------------------\u001b[0m",
      "\u001b[1;31mNameError\u001b[0m                                 Traceback (most recent call last)",
      "Cell \u001b[1;32mIn[33], line 29\u001b[0m\n\u001b[0;32m     26\u001b[0m     \u001b[38;5;28;01mreturn\u001b[39;00m last_prediction[\u001b[38;5;241m0\u001b[39m]\n\u001b[0;32m     28\u001b[0m \u001b[38;5;66;03m# Let's ensure that last_7_days_scaled is correctly shaped as (1, 7, 1) before prediction\u001b[39;00m\n\u001b[1;32m---> 29\u001b[0m last_7_days_scaled \u001b[38;5;241m=\u001b[39m \u001b[43mlast_7_days_scaled\u001b[49m\u001b[38;5;241m.\u001b[39mreshape(\u001b[38;5;241m1\u001b[39m, \u001b[38;5;241m-\u001b[39m\u001b[38;5;241m1\u001b[39m, \u001b[38;5;241m1\u001b[39m)\n\u001b[0;32m     31\u001b[0m \u001b[38;5;66;03m# Now, you can call your predict_next_N_days function again with this correctly shaped input\u001b[39;00m\n\u001b[0;32m     32\u001b[0m price_in_7_days \u001b[38;5;241m=\u001b[39m predict_next_7_days(model, scaler, last_7_days_scaled, N\u001b[38;5;241m=\u001b[39m\u001b[38;5;241m7\u001b[39m)\n",
      "\u001b[1;31mNameError\u001b[0m: name 'last_7_days_scaled' is not defined"
     ]
    }
   ],
   "source": [
    "def predict_next_7_days(model, scaler, last_7_days, N=7):\n",
    "    model.eval()  # Ensure the model is in evaluation mode\n",
    "    current_input = last_7_days\n",
    "    \n",
    "    for _ in range(N):\n",
    "        # Convert current input to tensor\n",
    "        current_input_tensor = torch.tensor(current_input).float().to(device)\n",
    "        \n",
    "        with torch.no_grad():\n",
    "            # Predict the next day\n",
    "            predicted_price_scaled = model(current_input_tensor).cpu().numpy()\n",
    "            # Assuming the output is 2D, we reshape it to fit our expected input shape for the next step\n",
    "            next_day_price_scaled = predicted_price_scaled.reshape(1, 1, -1)  # Adjust this line if needed\n",
    "            \n",
    "            # Prepare for next day prediction by updating the input\n",
    "            current_input = np.append(current_input[:, 1:, :], next_day_price_scaled, axis=1)\n",
    "    \n",
    "    # The last prediction is the day we're interested in, reverse scaling\n",
    "    last_prediction_scaled = current_input[0, -1, :].reshape(1, -1)\n",
    "    dummy_array = np.zeros((1, scaler.n_features_in_))\n",
    "    dummy_array[:, 0] = last_prediction_scaled  # Use the first feature assuming it's the 'Close' price\n",
    "    \n",
    "    # Inverse transform to get the original scale\n",
    "    last_prediction = scaler.inverse_transform(dummy_array)[:, 0]\n",
    "\n",
    "    return last_prediction[0]\n",
    "\n",
    "# Let's ensure that last_7_days_scaled is correctly shaped as (1, 7, 1) before prediction\n",
    "last_7_days_scaled = last_7_days_scaled.reshape(1, -1, 1)\n",
    "\n",
    "# Now, you can call your predict_next_N_days function again with this correctly shaped input\n",
    "price_in_7_days = predict_next_7_days(model, scaler, last_7_days_scaled, N=7)\n",
    "print(f'Predicted gold price in 7 days: {price_in_7_days}')\n",
    "\n",
    "\n"
   ]
  },
  {
   "cell_type": "code",
   "execution_count": null,
   "id": "4bce4959-a905-4581-a87e-2e6d8a37c8cf",
   "metadata": {
    "tags": []
   },
   "outputs": [],
   "source": [
    "import numpy as np\n",
    "import torch\n",
    "\n",
    "def predict_price_in_N_days(model, scaler, last_N_days_scaled, N=30):\n",
    "    model.eval()  # Set the model to evaluation mode\n",
    "    current_input = last_N_days_scaled  # Starting input\n",
    "\n",
    "    with torch.no_grad():\n",
    "        for _ in range(N):\n",
    "            # Predict the next day\n",
    "            current_input_tensor = torch.tensor(current_input).float().to(device)\n",
    "            predicted_price_scaled = model(current_input_tensor).cpu().numpy()\n",
    "            \n",
    "            # Prepare the input for the next prediction\n",
    "            next_input_scaled = np.append(current_input[:, :, :], predicted_price_scaled.reshape(1, 1, 1), axis=1)\n",
    "            current_input = next_input_scaled\n",
    "\n",
    "    # Last prediction is the price after N days\n",
    "    predicted_price_scaled = predicted_price_scaled[0, 0]  # Extract the predicted price\n",
    "    dummy_array = np.zeros((1, 8))  # Adjust the size based on your scaler's expected feature input\n",
    "    dummy_array[:, 0] = predicted_price_scaled\n",
    "\n",
    "    predicted_price = scaler.inverse_transform(dummy_array)[:, 0]\n",
    "\n",
    "    return predicted_price.item()\n",
    "\n",
    "# Assuming last_7_days_scaled is defined and shaped correctly as per your LSTM model's input requirements\n",
    "# Predict the gold price exactly 30 days into the future\n",
    "predicted_price_in_30_days = predict_price_in_N_days(model, scaler, last_7_days_scaled, N=30)\n",
    "\n",
    "# Display the predicted price\n",
    "print(f'Predicted gold price in 30 days: {predicted_price_in_30_days}')"
   ]
  },
  {
   "cell_type": "code",
   "execution_count": null,
   "id": "aa2f96bd-b672-488e-9c62-08b9a5ef642e",
   "metadata": {},
   "outputs": [],
   "source": []
  },
  {
   "cell_type": "code",
   "execution_count": null,
   "id": "e5e0f5cd-9548-4a4c-8fb5-ce9366b67572",
   "metadata": {},
   "outputs": [],
   "source": []
  }
 ],
 "metadata": {
  "kernelspec": {
   "display_name": "Python 3 (ipykernel)",
   "language": "python",
   "name": "python3"
  },
  "language_info": {
   "codemirror_mode": {
    "name": "ipython",
    "version": 3
   },
   "file_extension": ".py",
   "mimetype": "text/x-python",
   "name": "python",
   "nbconvert_exporter": "python",
   "pygments_lexer": "ipython3",
   "version": "3.11.5"
  }
 },
 "nbformat": 4,
 "nbformat_minor": 5
}
