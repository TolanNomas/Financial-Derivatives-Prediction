{
 "cells": [
  {
   "cell_type": "code",
   "execution_count": 65,
   "id": "35801504-6e16-4e34-8803-b857713ddddb",
   "metadata": {
    "tags": []
   },
   "outputs": [
    {
     "name": "stderr",
     "output_type": "stream",
     "text": [
      "[*********************100%%**********************]  1 of 1 completed\n"
     ]
    },
    {
     "data": {
      "text/html": [
       "<div>\n",
       "<style scoped>\n",
       "    .dataframe tbody tr th:only-of-type {\n",
       "        vertical-align: middle;\n",
       "    }\n",
       "\n",
       "    .dataframe tbody tr th {\n",
       "        vertical-align: top;\n",
       "    }\n",
       "\n",
       "    .dataframe thead th {\n",
       "        text-align: right;\n",
       "    }\n",
       "</style>\n",
       "<table border=\"1\" class=\"dataframe\">\n",
       "  <thead>\n",
       "    <tr style=\"text-align: right;\">\n",
       "      <th></th>\n",
       "      <th>Date</th>\n",
       "      <th>Open</th>\n",
       "      <th>High</th>\n",
       "      <th>Low</th>\n",
       "      <th>Close</th>\n",
       "      <th>Adj Close</th>\n",
       "      <th>Volume</th>\n",
       "    </tr>\n",
       "  </thead>\n",
       "  <tbody>\n",
       "    <tr>\n",
       "      <th>0</th>\n",
       "      <td>2000-08-30</td>\n",
       "      <td>273.899994</td>\n",
       "      <td>273.899994</td>\n",
       "      <td>273.899994</td>\n",
       "      <td>273.899994</td>\n",
       "      <td>273.899994</td>\n",
       "      <td>0</td>\n",
       "    </tr>\n",
       "    <tr>\n",
       "      <th>1</th>\n",
       "      <td>2000-08-31</td>\n",
       "      <td>274.799988</td>\n",
       "      <td>278.299988</td>\n",
       "      <td>274.799988</td>\n",
       "      <td>278.299988</td>\n",
       "      <td>278.299988</td>\n",
       "      <td>0</td>\n",
       "    </tr>\n",
       "    <tr>\n",
       "      <th>2</th>\n",
       "      <td>2000-09-01</td>\n",
       "      <td>277.000000</td>\n",
       "      <td>277.000000</td>\n",
       "      <td>277.000000</td>\n",
       "      <td>277.000000</td>\n",
       "      <td>277.000000</td>\n",
       "      <td>0</td>\n",
       "    </tr>\n",
       "    <tr>\n",
       "      <th>3</th>\n",
       "      <td>2000-09-05</td>\n",
       "      <td>275.799988</td>\n",
       "      <td>275.799988</td>\n",
       "      <td>275.799988</td>\n",
       "      <td>275.799988</td>\n",
       "      <td>275.799988</td>\n",
       "      <td>2</td>\n",
       "    </tr>\n",
       "    <tr>\n",
       "      <th>4</th>\n",
       "      <td>2000-09-06</td>\n",
       "      <td>274.200012</td>\n",
       "      <td>274.200012</td>\n",
       "      <td>274.200012</td>\n",
       "      <td>274.200012</td>\n",
       "      <td>274.200012</td>\n",
       "      <td>0</td>\n",
       "    </tr>\n",
       "    <tr>\n",
       "      <th>...</th>\n",
       "      <td>...</td>\n",
       "      <td>...</td>\n",
       "      <td>...</td>\n",
       "      <td>...</td>\n",
       "      <td>...</td>\n",
       "      <td>...</td>\n",
       "      <td>...</td>\n",
       "    </tr>\n",
       "    <tr>\n",
       "      <th>5911</th>\n",
       "      <td>2024-03-22</td>\n",
       "      <td>2179.199951</td>\n",
       "      <td>2179.600098</td>\n",
       "      <td>2157.500000</td>\n",
       "      <td>2158.100098</td>\n",
       "      <td>2158.100098</td>\n",
       "      <td>19</td>\n",
       "    </tr>\n",
       "    <tr>\n",
       "      <th>5912</th>\n",
       "      <td>2024-03-25</td>\n",
       "      <td>2166.199951</td>\n",
       "      <td>2179.399902</td>\n",
       "      <td>2166.199951</td>\n",
       "      <td>2174.800049</td>\n",
       "      <td>2174.800049</td>\n",
       "      <td>79</td>\n",
       "    </tr>\n",
       "    <tr>\n",
       "      <th>5913</th>\n",
       "      <td>2024-03-26</td>\n",
       "      <td>2182.699951</td>\n",
       "      <td>2182.699951</td>\n",
       "      <td>2175.600098</td>\n",
       "      <td>2175.600098</td>\n",
       "      <td>2175.600098</td>\n",
       "      <td>202373</td>\n",
       "    </tr>\n",
       "    <tr>\n",
       "      <th>5914</th>\n",
       "      <td>2024-03-27</td>\n",
       "      <td>2179.399902</td>\n",
       "      <td>2196.199951</td>\n",
       "      <td>2172.100098</td>\n",
       "      <td>2190.600098</td>\n",
       "      <td>2190.600098</td>\n",
       "      <td>202373</td>\n",
       "    </tr>\n",
       "    <tr>\n",
       "      <th>5915</th>\n",
       "      <td>2024-03-28</td>\n",
       "      <td>2215.699951</td>\n",
       "      <td>2246.800049</td>\n",
       "      <td>2207.500000</td>\n",
       "      <td>2242.699951</td>\n",
       "      <td>2242.699951</td>\n",
       "      <td>204503</td>\n",
       "    </tr>\n",
       "  </tbody>\n",
       "</table>\n",
       "<p>5916 rows × 7 columns</p>\n",
       "</div>"
      ],
      "text/plain": [
       "           Date         Open         High          Low        Close  \\\n",
       "0    2000-08-30   273.899994   273.899994   273.899994   273.899994   \n",
       "1    2000-08-31   274.799988   278.299988   274.799988   278.299988   \n",
       "2    2000-09-01   277.000000   277.000000   277.000000   277.000000   \n",
       "3    2000-09-05   275.799988   275.799988   275.799988   275.799988   \n",
       "4    2000-09-06   274.200012   274.200012   274.200012   274.200012   \n",
       "...         ...          ...          ...          ...          ...   \n",
       "5911 2024-03-22  2179.199951  2179.600098  2157.500000  2158.100098   \n",
       "5912 2024-03-25  2166.199951  2179.399902  2166.199951  2174.800049   \n",
       "5913 2024-03-26  2182.699951  2182.699951  2175.600098  2175.600098   \n",
       "5914 2024-03-27  2179.399902  2196.199951  2172.100098  2190.600098   \n",
       "5915 2024-03-28  2215.699951  2246.800049  2207.500000  2242.699951   \n",
       "\n",
       "        Adj Close  Volume  \n",
       "0      273.899994       0  \n",
       "1      278.299988       0  \n",
       "2      277.000000       0  \n",
       "3      275.799988       2  \n",
       "4      274.200012       0  \n",
       "...           ...     ...  \n",
       "5911  2158.100098      19  \n",
       "5912  2174.800049      79  \n",
       "5913  2175.600098  202373  \n",
       "5914  2190.600098  202373  \n",
       "5915  2242.699951  204503  \n",
       "\n",
       "[5916 rows x 7 columns]"
      ]
     },
     "execution_count": 65,
     "metadata": {},
     "output_type": "execute_result"
    }
   ],
   "source": [
    "import yfinance as yf\n",
    "import pandas as pd\n",
    "import numpy as np\n",
    "import matplotlib.pyplot as plt\n",
    "\n",
    "import torch\n",
    "import torch.nn as nn\n",
    "\n",
    "#fetching gold data from yahoo finance\n",
    "data = yf.Ticker('GC=F')\n",
    "symbol = 'GC=F'\n",
    "start_date = \"2010-01-01\"\n",
    "data = yf.download('GC=F', period = 'max')\n",
    "\n",
    "# Resetting the index to turn the date index into a column\n",
    "data.reset_index(inplace=True)\n",
    "\n",
    "data"
   ]
  },
  {
   "cell_type": "code",
   "execution_count": 66,
   "id": "70548503-a6ae-4d95-a299-2abef9738ab2",
   "metadata": {
    "tags": []
   },
   "outputs": [
    {
     "data": {
      "text/html": [
       "<div>\n",
       "<style scoped>\n",
       "    .dataframe tbody tr th:only-of-type {\n",
       "        vertical-align: middle;\n",
       "    }\n",
       "\n",
       "    .dataframe tbody tr th {\n",
       "        vertical-align: top;\n",
       "    }\n",
       "\n",
       "    .dataframe thead th {\n",
       "        text-align: right;\n",
       "    }\n",
       "</style>\n",
       "<table border=\"1\" class=\"dataframe\">\n",
       "  <thead>\n",
       "    <tr style=\"text-align: right;\">\n",
       "      <th></th>\n",
       "      <th>Date</th>\n",
       "      <th>Close</th>\n",
       "    </tr>\n",
       "  </thead>\n",
       "  <tbody>\n",
       "    <tr>\n",
       "      <th>0</th>\n",
       "      <td>2000-08-30</td>\n",
       "      <td>273.899994</td>\n",
       "    </tr>\n",
       "    <tr>\n",
       "      <th>1</th>\n",
       "      <td>2000-08-31</td>\n",
       "      <td>278.299988</td>\n",
       "    </tr>\n",
       "    <tr>\n",
       "      <th>2</th>\n",
       "      <td>2000-09-01</td>\n",
       "      <td>277.000000</td>\n",
       "    </tr>\n",
       "    <tr>\n",
       "      <th>3</th>\n",
       "      <td>2000-09-05</td>\n",
       "      <td>275.799988</td>\n",
       "    </tr>\n",
       "    <tr>\n",
       "      <th>4</th>\n",
       "      <td>2000-09-06</td>\n",
       "      <td>274.200012</td>\n",
       "    </tr>\n",
       "    <tr>\n",
       "      <th>...</th>\n",
       "      <td>...</td>\n",
       "      <td>...</td>\n",
       "    </tr>\n",
       "    <tr>\n",
       "      <th>5911</th>\n",
       "      <td>2024-03-22</td>\n",
       "      <td>2158.100098</td>\n",
       "    </tr>\n",
       "    <tr>\n",
       "      <th>5912</th>\n",
       "      <td>2024-03-25</td>\n",
       "      <td>2174.800049</td>\n",
       "    </tr>\n",
       "    <tr>\n",
       "      <th>5913</th>\n",
       "      <td>2024-03-26</td>\n",
       "      <td>2175.600098</td>\n",
       "    </tr>\n",
       "    <tr>\n",
       "      <th>5914</th>\n",
       "      <td>2024-03-27</td>\n",
       "      <td>2190.600098</td>\n",
       "    </tr>\n",
       "    <tr>\n",
       "      <th>5915</th>\n",
       "      <td>2024-03-28</td>\n",
       "      <td>2242.699951</td>\n",
       "    </tr>\n",
       "  </tbody>\n",
       "</table>\n",
       "<p>5916 rows × 2 columns</p>\n",
       "</div>"
      ],
      "text/plain": [
       "           Date        Close\n",
       "0    2000-08-30   273.899994\n",
       "1    2000-08-31   278.299988\n",
       "2    2000-09-01   277.000000\n",
       "3    2000-09-05   275.799988\n",
       "4    2000-09-06   274.200012\n",
       "...         ...          ...\n",
       "5911 2024-03-22  2158.100098\n",
       "5912 2024-03-25  2174.800049\n",
       "5913 2024-03-26  2175.600098\n",
       "5914 2024-03-27  2190.600098\n",
       "5915 2024-03-28  2242.699951\n",
       "\n",
       "[5916 rows x 2 columns]"
      ]
     },
     "execution_count": 66,
     "metadata": {},
     "output_type": "execute_result"
    }
   ],
   "source": [
    "# trim dataset to relevent columns (we only need date and close to forecast prices)\n",
    "data = data[['Date', 'Close']]\n",
    "data"
   ]
  },
  {
   "cell_type": "code",
   "execution_count": 67,
   "id": "0d2794fe-8e4d-4793-a2be-af9af6096910",
   "metadata": {
    "tags": []
   },
   "outputs": [
    {
     "data": {
      "text/plain": [
       "[<matplotlib.lines.Line2D at 0x21452f32bd0>]"
      ]
     },
     "execution_count": 67,
     "metadata": {},
     "output_type": "execute_result"
    },
    {
     "data": {
      "image/png": "[encoded data removed]",
      "text/plain": [
       "<Figure size 640x480 with 1 Axes>"
      ]
     },
     "metadata": {},
     "output_type": "display_data"
    }
   ],
   "source": [
    "#simple transformations\n",
    "data.loc[:, 'Date'] = pd.to_datetime(data['Date'])\n",
    "\n",
    "plt.plot(data['Date'], data['Close'])"
   ]
  },
  {
   "cell_type": "code",
   "execution_count": 68,
   "id": "29d01443-a9df-420c-8f6e-8340b9036a7e",
   "metadata": {
    "tags": []
   },
   "outputs": [
    {
     "data": {
      "text/plain": [
       "'cuda:0'"
      ]
     },
     "execution_count": 68,
     "metadata": {},
     "output_type": "execute_result"
    }
   ],
   "source": [
    "device = 'cuda:0' if torch.cuda.is_available() else 'cpu'\n",
    "device"
   ]
  },
  {
   "cell_type": "code",
   "execution_count": 69,
   "id": "f48de125-1893-445f-a167-41f87a5aaf99",
   "metadata": {
    "tags": []
   },
   "outputs": [
    {
     "data": {
      "text/html": [
       "<div>\n",
       "<style scoped>\n",
       "    .dataframe tbody tr th:only-of-type {\n",
       "        vertical-align: middle;\n",
       "    }\n",
       "\n",
       "    .dataframe tbody tr th {\n",
       "        vertical-align: top;\n",
       "    }\n",
       "\n",
       "    .dataframe thead th {\n",
       "        text-align: right;\n",
       "    }\n",
       "</style>\n",
       "<table border=\"1\" class=\"dataframe\">\n",
       "  <thead>\n",
       "    <tr style=\"text-align: right;\">\n",
       "      <th></th>\n",
       "      <th>Close</th>\n",
       "      <th>Close(t-1)</th>\n",
       "      <th>Close(t-2)</th>\n",
       "      <th>Close(t-3)</th>\n",
       "      <th>Close(t-4)</th>\n",
       "      <th>Close(t-5)</th>\n",
       "      <th>Close(t-6)</th>\n",
       "      <th>Close(t-7)</th>\n",
       "    </tr>\n",
       "    <tr>\n",
       "      <th>Date</th>\n",
       "      <th></th>\n",
       "      <th></th>\n",
       "      <th></th>\n",
       "      <th></th>\n",
       "      <th></th>\n",
       "      <th></th>\n",
       "      <th></th>\n",
       "      <th></th>\n",
       "    </tr>\n",
       "  </thead>\n",
       "  <tbody>\n",
       "    <tr>\n",
       "      <th>2000-09-11</th>\n",
       "      <td>273.100006</td>\n",
       "      <td>273.299988</td>\n",
       "      <td>274.000000</td>\n",
       "      <td>274.200012</td>\n",
       "      <td>275.799988</td>\n",
       "      <td>277.000000</td>\n",
       "      <td>278.299988</td>\n",
       "      <td>273.899994</td>\n",
       "    </tr>\n",
       "    <tr>\n",
       "      <th>2000-09-12</th>\n",
       "      <td>272.899994</td>\n",
       "      <td>273.100006</td>\n",
       "      <td>273.299988</td>\n",
       "      <td>274.000000</td>\n",
       "      <td>274.200012</td>\n",
       "      <td>275.799988</td>\n",
       "      <td>277.000000</td>\n",
       "      <td>278.299988</td>\n",
       "    </tr>\n",
       "    <tr>\n",
       "      <th>2000-09-13</th>\n",
       "      <td>272.799988</td>\n",
       "      <td>272.899994</td>\n",
       "      <td>273.100006</td>\n",
       "      <td>273.299988</td>\n",
       "      <td>274.000000</td>\n",
       "      <td>274.200012</td>\n",
       "      <td>275.799988</td>\n",
       "      <td>277.000000</td>\n",
       "    </tr>\n",
       "    <tr>\n",
       "      <th>2000-09-14</th>\n",
       "      <td>272.399994</td>\n",
       "      <td>272.799988</td>\n",
       "      <td>272.899994</td>\n",
       "      <td>273.100006</td>\n",
       "      <td>273.299988</td>\n",
       "      <td>274.000000</td>\n",
       "      <td>274.200012</td>\n",
       "      <td>275.799988</td>\n",
       "    </tr>\n",
       "    <tr>\n",
       "      <th>2000-09-15</th>\n",
       "      <td>272.299988</td>\n",
       "      <td>272.399994</td>\n",
       "      <td>272.799988</td>\n",
       "      <td>272.899994</td>\n",
       "      <td>273.100006</td>\n",
       "      <td>273.299988</td>\n",
       "      <td>274.000000</td>\n",
       "      <td>274.200012</td>\n",
       "    </tr>\n",
       "    <tr>\n",
       "      <th>...</th>\n",
       "      <td>...</td>\n",
       "      <td>...</td>\n",
       "      <td>...</td>\n",
       "      <td>...</td>\n",
       "      <td>...</td>\n",
       "      <td>...</td>\n",
       "      <td>...</td>\n",
       "      <td>...</td>\n",
       "    </tr>\n",
       "    <tr>\n",
       "      <th>2024-03-22</th>\n",
       "      <td>2158.100098</td>\n",
       "      <td>2182.399902</td>\n",
       "      <td>2157.899902</td>\n",
       "      <td>2156.300049</td>\n",
       "      <td>2160.699951</td>\n",
       "      <td>2157.300049</td>\n",
       "      <td>2163.000000</td>\n",
       "      <td>2175.399902</td>\n",
       "    </tr>\n",
       "    <tr>\n",
       "      <th>2024-03-25</th>\n",
       "      <td>2174.800049</td>\n",
       "      <td>2158.100098</td>\n",
       "      <td>2182.399902</td>\n",
       "      <td>2157.899902</td>\n",
       "      <td>2156.300049</td>\n",
       "      <td>2160.699951</td>\n",
       "      <td>2157.300049</td>\n",
       "      <td>2163.000000</td>\n",
       "    </tr>\n",
       "    <tr>\n",
       "      <th>2024-03-26</th>\n",
       "      <td>2175.600098</td>\n",
       "      <td>2174.800049</td>\n",
       "      <td>2158.100098</td>\n",
       "      <td>2182.399902</td>\n",
       "      <td>2157.899902</td>\n",
       "      <td>2156.300049</td>\n",
       "      <td>2160.699951</td>\n",
       "      <td>2157.300049</td>\n",
       "    </tr>\n",
       "    <tr>\n",
       "      <th>2024-03-27</th>\n",
       "      <td>2190.600098</td>\n",
       "      <td>2175.600098</td>\n",
       "      <td>2174.800049</td>\n",
       "      <td>2158.100098</td>\n",
       "      <td>2182.399902</td>\n",
       "      <td>2157.899902</td>\n",
       "      <td>2156.300049</td>\n",
       "      <td>2160.699951</td>\n",
       "    </tr>\n",
       "    <tr>\n",
       "      <th>2024-03-28</th>\n",
       "      <td>2242.699951</td>\n",
       "      <td>2190.600098</td>\n",
       "      <td>2175.600098</td>\n",
       "      <td>2174.800049</td>\n",
       "      <td>2158.100098</td>\n",
       "      <td>2182.399902</td>\n",
       "      <td>2157.899902</td>\n",
       "      <td>2156.300049</td>\n",
       "    </tr>\n",
       "  </tbody>\n",
       "</table>\n",
       "<p>5909 rows × 8 columns</p>\n",
       "</div>"
      ],
      "text/plain": [
       "                  Close   Close(t-1)   Close(t-2)   Close(t-3)   Close(t-4)  \\\n",
       "Date                                                                          \n",
       "2000-09-11   273.100006   273.299988   274.000000   274.200012   275.799988   \n",
       "2000-09-12   272.899994   273.100006   273.299988   274.000000   274.200012   \n",
       "2000-09-13   272.799988   272.899994   273.100006   273.299988   274.000000   \n",
       "2000-09-14   272.399994   272.799988   272.899994   273.100006   273.299988   \n",
       "2000-09-15   272.299988   272.399994   272.799988   272.899994   273.100006   \n",
       "...                 ...          ...          ...          ...          ...   \n",
       "2024-03-22  2158.100098  2182.399902  2157.899902  2156.300049  2160.699951   \n",
       "2024-03-25  2174.800049  2158.100098  2182.399902  2157.899902  2156.300049   \n",
       "2024-03-26  2175.600098  2174.800049  2158.100098  2182.399902  2157.899902   \n",
       "2024-03-27  2190.600098  2175.600098  2174.800049  2158.100098  2182.399902   \n",
       "2024-03-28  2242.699951  2190.600098  2175.600098  2174.800049  2158.100098   \n",
       "\n",
       "             Close(t-5)   Close(t-6)   Close(t-7)  \n",
       "Date                                               \n",
       "2000-09-11   277.000000   278.299988   273.899994  \n",
       "2000-09-12   275.799988   277.000000   278.299988  \n",
       "2000-09-13   274.200012   275.799988   277.000000  \n",
       "2000-09-14   274.000000   274.200012   275.799988  \n",
       "2000-09-15   273.299988   274.000000   274.200012  \n",
       "...                 ...          ...          ...  \n",
       "2024-03-22  2157.300049  2163.000000  2175.399902  \n",
       "2024-03-25  2160.699951  2157.300049  2163.000000  \n",
       "2024-03-26  2156.300049  2160.699951  2157.300049  \n",
       "2024-03-27  2157.899902  2156.300049  2160.699951  \n",
       "2024-03-28  2182.399902  2157.899902  2156.300049  \n",
       "\n",
       "[5909 rows x 8 columns]"
      ]
     },
     "execution_count": 69,
     "metadata": {},
     "output_type": "execute_result"
    }
   ],
   "source": [
    "#takes df from above and creates a lookback window of a week (lookback =7) \n",
    "from copy import deepcopy as dc\n",
    "\n",
    "def prepare_dataframe_for_lstm(df, n_steps):\n",
    "    df = dc(df)\n",
    "    \n",
    "    df.set_index('Date', inplace=True)\n",
    "    \n",
    "    #shifts dataframe for each lookback window\n",
    "    for i in range(1, n_steps+1):\n",
    "        df[f'Close(t-{i})'] = df['Close'].shift(i)\n",
    "        \n",
    "    df.dropna(inplace=True)\n",
    "    \n",
    "    return df\n",
    "\n",
    "#any greater lookback doesn't capture the volatility of gold \n",
    "lookback = 7\n",
    "shifted_df = prepare_dataframe_for_lstm(data, lookback)\n",
    "shifted_df"
   ]
  },
  {
   "cell_type": "code",
   "execution_count": 70,
   "id": "3b26c0e3-680c-450a-bb5e-c1fa73c87b8b",
   "metadata": {
    "tags": []
   },
   "outputs": [
    {
     "data": {
      "text/plain": [
       "array([[ 273.1000061 ,  273.29998779,  274.        , ...,  277.        ,\n",
       "         278.29998779,  273.8999939 ],\n",
       "       [ 272.8999939 ,  273.1000061 ,  273.29998779, ...,  275.79998779,\n",
       "         277.        ,  278.29998779],\n",
       "       [ 272.79998779,  272.8999939 ,  273.1000061 , ...,  274.20001221,\n",
       "         275.79998779,  277.        ],\n",
       "       ...,\n",
       "       [2175.60009766, 2174.80004883, 2158.10009766, ..., 2156.30004883,\n",
       "        2160.69995117, 2157.30004883],\n",
       "       [2190.60009766, 2175.60009766, 2174.80004883, ..., 2157.89990234,\n",
       "        2156.30004883, 2160.69995117],\n",
       "       [2242.69995117, 2190.60009766, 2175.60009766, ..., 2182.39990234,\n",
       "        2157.89990234, 2156.30004883]])"
      ]
     },
     "execution_count": 70,
     "metadata": {},
     "output_type": "execute_result"
    }
   ],
   "source": [
    "shifted_df_as_np = shifted_df.to_numpy()\n",
    "\n",
    "shifted_df_as_np"
   ]
  },
  {
   "cell_type": "code",
   "execution_count": 71,
   "id": "053d754f-bf59-4f57-a3e0-ce8148c3e9fd",
   "metadata": {
    "tags": []
   },
   "outputs": [
    {
     "data": {
      "text/plain": [
       "(5909, 8)"
      ]
     },
     "execution_count": 71,
     "metadata": {},
     "output_type": "execute_result"
    }
   ],
   "source": [
    "shifted_df_as_np.shape"
   ]
  },
  {
   "cell_type": "code",
   "execution_count": 72,
   "id": "737e2d2a-59eb-4dfe-98d4-e80e418d09e0",
   "metadata": {
    "tags": []
   },
   "outputs": [
    {
     "data": {
      "text/plain": [
       "array([[-0.9818877 , -0.98119351, -0.98038809, ..., -0.97727509,\n",
       "        -0.97592614, -0.98049187],\n",
       "       [-0.98208896, -0.98140016, -0.98111447, ..., -0.97852031,\n",
       "        -0.97727509, -0.97592614],\n",
       "       [-0.98218959, -0.98160683, -0.98132199, ..., -0.98018055,\n",
       "        -0.97852031, -0.97727509],\n",
       "       ...,\n",
       "       [ 0.93248153,  0.98367342,  0.97468102, ...,  0.97281317,\n",
       "         0.9773788 ,  0.97385083],\n",
       "       [ 0.94757511,  0.98450013,  0.99201001, ...,  0.97447328,\n",
       "         0.97281317,  0.9773788 ],\n",
       "       [ 1.        ,  1.        ,  0.9928402 , ...,  0.99989613,\n",
       "         0.97447328,  0.97281317]])"
      ]
     },
     "execution_count": 72,
     "metadata": {},
     "output_type": "execute_result"
    }
   ],
   "source": [
    "#runs scaler on data\n",
    "from sklearn.preprocessing import MinMaxScaler\n",
    "\n",
    "scaler = MinMaxScaler(feature_range=(-1, 1))\n",
    "shifted_df_as_np = scaler.fit_transform(shifted_df_as_np)\n",
    "\n",
    "shifted_df_as_np"
   ]
  },
  {
   "cell_type": "code",
   "execution_count": 73,
   "id": "312cb918-7a74-4eb6-bdd0-9e70d4103744",
   "metadata": {
    "tags": []
   },
   "outputs": [
    {
     "data": {
      "text/plain": [
       "((5909, 7), (5909,))"
      ]
     },
     "execution_count": 73,
     "metadata": {},
     "output_type": "execute_result"
    }
   ],
   "source": [
    "#changes df into x and y\n",
    "X = shifted_df_as_np[:, 1:]\n",
    "y = shifted_df_as_np[:, 0]\n",
    "\n",
    "X.shape, y.shape"
   ]
  },
  {
   "cell_type": "code",
   "execution_count": 74,
   "id": "36606079-ad71-43ab-b5a4-e35dd7b23329",
   "metadata": {
    "tags": []
   },
   "outputs": [
    {
     "data": {
      "text/plain": [
       "array([[-0.98049187, -0.97592614, -0.97727509, ..., -0.98018055,\n",
       "        -0.98038809, -0.98119351],\n",
       "       [-0.97592614, -0.97727509, -0.97852031, ..., -0.98038809,\n",
       "        -0.98111447, -0.98140016],\n",
       "       [-0.97727509, -0.97852031, -0.98018055, ..., -0.98111447,\n",
       "        -0.98132199, -0.98160683],\n",
       "       ...,\n",
       "       [ 0.97385083,  0.9773788 ,  0.97281317, ...,  0.99989613,\n",
       "         0.97468102,  0.98367342],\n",
       "       [ 0.9773788 ,  0.97281317,  0.97447328, ...,  0.97468102,\n",
       "         0.99201001,  0.98450013],\n",
       "       [ 0.97281317,  0.97447328,  0.99989613, ...,  0.99201001,\n",
       "         0.9928402 ,  1.        ]])"
      ]
     },
     "execution_count": 74,
     "metadata": {},
     "output_type": "execute_result"
    }
   ],
   "source": [
    "X = dc(np.flip(X, axis=1))\n",
    "X"
   ]
  },
  {
   "cell_type": "code",
   "execution_count": 75,
   "id": "b27f4480-95d6-443f-b86c-eb077cc32bae",
   "metadata": {
    "tags": []
   },
   "outputs": [
    {
     "data": {
      "text/plain": [
       "5613"
      ]
     },
     "execution_count": 75,
     "metadata": {},
     "output_type": "execute_result"
    }
   ],
   "source": [
    "#use first 95% as train and last 5% as test\n",
    "split_index = int(len(X) * 0.95)\n",
    "\n",
    "split_index"
   ]
  },
  {
   "cell_type": "code",
   "execution_count": 76,
   "id": "f99b6a58-b72f-405d-ad6b-d08c5f03af89",
   "metadata": {
    "tags": []
   },
   "outputs": [
    {
     "data": {
      "text/plain": [
       "((5613, 7), (296, 7), (5613,), (296,))"
      ]
     },
     "execution_count": 76,
     "metadata": {},
     "output_type": "execute_result"
    }
   ],
   "source": [
    "# splitting into train and test\n",
    "X_train = X[:split_index]\n",
    "X_test = X[split_index:]\n",
    "\n",
    "y_train = y[:split_index]\n",
    "y_test = y[split_index:]\n",
    "\n",
    "X_train.shape, X_test.shape, y_train.shape, y_test.shape"
   ]
  },
  {
   "cell_type": "code",
   "execution_count": 77,
   "id": "6dc232db-0a94-4602-b129-201ee41884bf",
   "metadata": {
    "tags": []
   },
   "outputs": [
    {
     "data": {
      "text/plain": [
       "((5613, 7, 1), (296, 7, 1), (5613, 1), (296, 1))"
      ]
     },
     "execution_count": 77,
     "metadata": {},
     "output_type": "execute_result"
    }
   ],
   "source": [
    "#PyTorch requires an extra dimension at end\n",
    "X_train = X_train.reshape((-1, lookback, 1))\n",
    "X_test = X_test.reshape((-1, lookback, 1))\n",
    "\n",
    "y_train = y_train.reshape((-1, 1))\n",
    "y_test = y_test.reshape((-1, 1))\n",
    "\n",
    "X_train.shape, X_test.shape, y_train.shape, y_test.shape"
   ]
  },
  {
   "cell_type": "code",
   "execution_count": 78,
   "id": "68651751-8738-4dd3-b26f-4e240fe214fb",
   "metadata": {
    "tags": []
   },
   "outputs": [
    {
     "data": {
      "text/plain": [
       "(torch.Size([5613, 7, 1]),\n",
       " torch.Size([296, 7, 1]),\n",
       " torch.Size([5613, 1]),\n",
       " torch.Size([296, 1]))"
      ]
     },
     "execution_count": 78,
     "metadata": {},
     "output_type": "execute_result"
    }
   ],
   "source": [
    "#wrapping in tensors for PyTorch\n",
    "X_train = torch.tensor(X_train).float()\n",
    "y_train = torch.tensor(y_train).float()\n",
    "X_test = torch.tensor(X_test).float()\n",
    "y_test = torch.tensor(y_test).float()\n",
    "\n",
    "X_train.shape, X_test.shape, y_train.shape, y_test.shape"
   ]
  },
  {
   "cell_type": "code",
   "execution_count": 79,
   "id": "59deda0e-c07d-4948-ab8d-7676071a132b",
   "metadata": {
    "tags": []
   },
   "outputs": [],
   "source": [
    "#need datasets object for PyTorch\n",
    "#needs to be custom class\n",
    "from torch.utils.data import Dataset\n",
    "\n",
    "class TimeSeriesDataset(Dataset):\n",
    "    def __init__(self, X, y):\n",
    "        self.X = X\n",
    "        self.y = y\n",
    "\n",
    "    def __len__(self):\n",
    "        return len(self.X)\n",
    "\n",
    "    def __getitem__(self, i):\n",
    "        return self.X[i], self.y[i]\n",
    "    \n",
    "train_dataset = TimeSeriesDataset(X_train, y_train)\n",
    "test_dataset = TimeSeriesDataset(X_test, y_test)"
   ]
  },
  {
   "cell_type": "code",
   "execution_count": 80,
   "id": "5167f5f7-30d0-4f8f-8981-953477493711",
   "metadata": {
    "tags": []
   },
   "outputs": [
    {
     "data": {
      "text/plain": [
       "<__main__.TimeSeriesDataset at 0x214594b6450>"
      ]
     },
     "execution_count": 80,
     "metadata": {},
     "output_type": "execute_result"
    }
   ],
   "source": [
    "train_dataset"
   ]
  },
  {
   "cell_type": "code",
   "execution_count": 81,
   "id": "dd573555-5f4d-4bb6-80a2-341908f273e2",
   "metadata": {
    "tags": []
   },
   "outputs": [],
   "source": [
    "# wrap datasets in dataloaders to get batches\n",
    "# used for iteration\n",
    "from torch.utils.data import DataLoader\n",
    "\n",
    "batch_size = 16\n",
    "\n",
    "train_loader = DataLoader(train_dataset, batch_size=batch_size, shuffle=True)\n",
    "test_loader = DataLoader(test_dataset, batch_size=batch_size, shuffle=False)"
   ]
  },
  {
   "cell_type": "code",
   "execution_count": 82,
   "id": "7b863d07-aecb-4379-be26-acb0f9910224",
   "metadata": {
    "tags": []
   },
   "outputs": [
    {
     "name": "stdout",
     "output_type": "stream",
     "text": [
      "torch.Size([16, 7, 1]) torch.Size([16, 1])\n"
     ]
    }
   ],
   "source": [
    "#gives predicted outputs of arrays\n",
    "for _, batch in enumerate(train_loader):\n",
    "    x_batch, y_batch = batch[0].to(device), batch[1].to(device)\n",
    "    print(x_batch.shape, y_batch.shape)\n",
    "    break"
   ]
  },
  {
   "cell_type": "code",
   "execution_count": 83,
   "id": "38e3f457-ccb7-4ece-b7c7-c1fcb6424536",
   "metadata": {
    "tags": []
   },
   "outputs": [
    {
     "data": {
      "text/plain": [
       "LSTM(\n",
       "  (lstm): LSTM(1, 12, batch_first=True)\n",
       "  (fc): Linear(in_features=12, out_features=1, bias=True)\n",
       ")"
      ]
     },
     "execution_count": 83,
     "metadata": {},
     "output_type": "execute_result"
    }
   ],
   "source": [
    "#takes in number of features, dimensions and number of stacked layers (more layers = more complexity in model)\n",
    "class LSTM(nn.Module):\n",
    "    def __init__(self, input_size, hidden_size, num_stacked_layers):\n",
    "        super().__init__()\n",
    "        self.hidden_size = hidden_size\n",
    "        self.num_stacked_layers = num_stacked_layers\n",
    "        \n",
    "        #initally use 1 layer to prevent overfitting in training data\n",
    "        self.lstm = nn.LSTM(input_size, hidden_size, num_stacked_layers, \n",
    "                            batch_first=True)\n",
    "        \n",
    "        #maps hidden layer to 1. Needed to predict final closing value\n",
    "        self.fc = nn.Linear(hidden_size, 1)\n",
    "\n",
    "    def forward(self, x):\n",
    "        batch_size = x.size(0)\n",
    "        #initialise LSTM with default h0 and c0\n",
    "        h0 = torch.zeros(self.num_stacked_layers, batch_size, self.hidden_size).to(device)\n",
    "        c0 = torch.zeros(self.num_stacked_layers, batch_size, self.hidden_size).to(device)\n",
    "        \n",
    "        out, _ = self.lstm(x, (h0, c0))\n",
    "        #output is gotten from passing varibles in fully connected layer\n",
    "        out = self.fc(out[:, -1, :])\n",
    "        return out\n",
    "\n",
    "#initial model has 1 input size, 4 hidden sizes and 1 stacked layer\n",
    "#model = LSTM(1, 4, 1) MAPE: 2.61\n",
    "#Attempt 2:  Increase to 8 hidden units and 2 stacked layers\n",
    "#model = LSTM(1, 8, 2)  MAPE: 2.89\n",
    "#Attempt 3:  Increase to 16 hidden units and 4 stacked layers\n",
    "#model = LSTM(1, 16, 4) MAPE: 3.10\n",
    "#Attempt 4: Increase to 32 hidden unit and 8 stacked layers <----overfitted\n",
    "#model = LSTM(1, 32, 8) MAPE: 1.87\n",
    "#Attempt 5:  Increase to 24 hidden units and 6 stacked layers\n",
    "#model = LSTM(1, 24, 6) MAPE: 2.98\n",
    "#Attempt 6: 16 hidden units and 1 stacked layer\n",
    "#model = LSTM(1, 16, 1) MAPE: 1.56\n",
    "#Attempt 7: 12 hidden units and 1 stacked layer. MAPE of 1.079\n",
    "model = LSTM(1,12,1)\n",
    "model.to(device)\n",
    "model"
   ]
  },
  {
   "cell_type": "code",
   "execution_count": 84,
   "id": "df5de0d6-6408-4ab3-a280-4a51477e3d20",
   "metadata": {},
   "outputs": [],
   "source": [
    "#sets model to training mode\n",
    "def train_one_epoch():\n",
    "    model.train(True)\n",
    "    print(f'Epoch: {epoch + 1}')\n",
    "    running_loss = 0.0\n",
    "    \n",
    "    for batch_index, batch in enumerate(train_loader):\n",
    "        #puts x and y batch onto device we're using \n",
    "        x_batch, y_batch = batch[0].to(device), batch[1].to(device)\n",
    "        \n",
    "        output = model(x_batch)\n",
    "        #comparing model's output to ground truth\n",
    "        #loss is a tensor with a single value\n",
    "        loss = loss_function(output, y_batch)\n",
    "        running_loss += loss.item()\n",
    "        \n",
    "        #zero out gradients \n",
    "        optimizer.zero_grad()\n",
    "        #backwards pass \n",
    "        loss.backward()\n",
    "        optimizer.step()\n",
    "\n",
    "        #every 100 batches get avg loss across batches and print\n",
    "        if batch_index % 100 == 99:  # print every 100 batches\n",
    "            avg_loss_across_batches = running_loss / 100\n",
    "            print('Batch {0}, Loss: {1:.3f}'.format(batch_index+1,\n",
    "                                                    avg_loss_across_batches))\n",
    "            running_loss = 0.0\n",
    "    print()"
   ]
  },
  {
   "cell_type": "code",
   "execution_count": 85,
   "id": "6342d9f3-10e5-4f57-9e9d-9b9397ac0139",
   "metadata": {
    "tags": []
   },
   "outputs": [],
   "source": [
    "#sets model to validate mode\n",
    "def validate_one_epoch():\n",
    "    model.train(False)\n",
    "    running_loss = 0.0\n",
    "    \n",
    "    for batch_index, batch in enumerate(test_loader):\n",
    "        x_batch, y_batch = batch[0].to(device), batch[1].to(device)\n",
    "        \n",
    "        #don't need to calcualte gradient as there's no model updates\n",
    "        with torch.no_grad():\n",
    "            output = model(x_batch)\n",
    "            #compare output to ground truth\n",
    "            loss = loss_function(output, y_batch)\n",
    "            running_loss += loss.item()\n",
    "    #average loss value across all batches\n",
    "    avg_loss_across_batches = running_loss / len(test_loader)\n",
    "    \n",
    "    print('Val Loss: {0:.3f}'.format(avg_loss_across_batches))\n",
    "    print('***************************************************')\n",
    "    print()"
   ]
  },
  {
   "cell_type": "code",
   "execution_count": 86,
   "id": "46cf3fd4-67a2-4349-8a55-5b292099537a",
   "metadata": {
    "tags": []
   },
   "outputs": [
    {
     "name": "stdout",
     "output_type": "stream",
     "text": [
      "Epoch: 1\n",
      "Batch 100, Loss: 0.284\n",
      "Batch 200, Loss: 0.027\n",
      "Batch 300, Loss: 0.003\n",
      "\n",
      "Val Loss: 0.022\n",
      "***************************************************\n",
      "\n",
      "Epoch: 2\n",
      "Batch 100, Loss: 0.002\n",
      "Batch 200, Loss: 0.002\n",
      "Batch 300, Loss: 0.001\n",
      "\n",
      "Val Loss: 0.010\n",
      "***************************************************\n",
      "\n",
      "Epoch: 3\n",
      "Batch 100, Loss: 0.001\n",
      "Batch 200, Loss: 0.001\n",
      "Batch 300, Loss: 0.001\n",
      "\n",
      "Val Loss: 0.004\n",
      "***************************************************\n",
      "\n",
      "Epoch: 4\n",
      "Batch 100, Loss: 0.001\n",
      "Batch 200, Loss: 0.001\n",
      "Batch 300, Loss: 0.000\n",
      "\n",
      "Val Loss: 0.002\n",
      "***************************************************\n",
      "\n",
      "Epoch: 5\n",
      "Batch 100, Loss: 0.000\n",
      "Batch 200, Loss: 0.000\n",
      "Batch 300, Loss: 0.000\n",
      "\n",
      "Val Loss: 0.001\n",
      "***************************************************\n",
      "\n",
      "Epoch: 6\n",
      "Batch 100, Loss: 0.000\n",
      "Batch 200, Loss: 0.000\n",
      "Batch 300, Loss: 0.000\n",
      "\n",
      "Val Loss: 0.001\n",
      "***************************************************\n",
      "\n",
      "Epoch: 7\n",
      "Batch 100, Loss: 0.000\n",
      "Batch 200, Loss: 0.000\n",
      "Batch 300, Loss: 0.000\n",
      "\n",
      "Val Loss: 0.001\n",
      "***************************************************\n",
      "\n",
      "Epoch: 8\n",
      "Batch 100, Loss: 0.000\n",
      "Batch 200, Loss: 0.000\n",
      "Batch 300, Loss: 0.000\n",
      "\n",
      "Val Loss: 0.001\n",
      "***************************************************\n",
      "\n",
      "Epoch: 9\n",
      "Batch 100, Loss: 0.000\n",
      "Batch 200, Loss: 0.000\n",
      "Batch 300, Loss: 0.000\n",
      "\n",
      "Val Loss: 0.003\n",
      "***************************************************\n",
      "\n",
      "Epoch: 10\n",
      "Batch 100, Loss: 0.000\n",
      "Batch 200, Loss: 0.000\n",
      "Batch 300, Loss: 0.000\n",
      "\n",
      "Val Loss: 0.001\n",
      "***************************************************\n",
      "\n"
     ]
    }
   ],
   "source": [
    "learning_rate = 0.001\n",
    "#10 epochs is all that is necessary as any more will cause overfitting\n",
    "num_epochs = 10\n",
    "#trying to minimise mean squared error\n",
    "loss_function = nn.MSELoss()\n",
    "optimizer = torch.optim.Adam(model.parameters(), lr=learning_rate)\n",
    "\n",
    "for epoch in range(num_epochs):\n",
    "    train_one_epoch()\n",
    "    validate_one_epoch()"
   ]
  },
  {
   "cell_type": "code",
   "execution_count": 87,
   "id": "d8d0dae6-1795-4674-8823-288bcc515c92",
   "metadata": {
    "tags": []
   },
   "outputs": [
    {
     "data": {
      "image/png": "[encoded data removed]",
      "text/plain": [
       "<Figure size 640x480 with 1 Axes>"
      ]
     },
     "metadata": {},
     "output_type": "display_data"
    }
   ],
   "source": [
    "#no gradients for predictions\n",
    "with torch.no_grad():\n",
    "    #makes sure it on the device and is put to the CPU (numpy doesn't use GPU)\n",
    "    predicted = model(X_train.to(device)).to('cpu').numpy()\n",
    "\n",
    "plt.plot(y_train, label='Actual Close')\n",
    "plt.plot(predicted, label='Predicted Close')\n",
    "plt.xlabel('Day')\n",
    "plt.ylabel('Close')\n",
    "plt.legend()\n",
    "plt.show()"
   ]
  },
  {
   "cell_type": "code",
   "execution_count": 88,
   "id": "3e3fbb5e-658d-4589-a9d6-639db59ad2b9",
   "metadata": {
    "tags": []
   },
   "outputs": [
    {
     "data": {
      "text/plain": [
       "array([ 272.44522643,  271.96020948,  271.43822982, ..., 1909.50947601,\n",
       "       1914.45063064, 1919.06285279])"
      ]
     },
     "execution_count": 88,
     "metadata": {},
     "output_type": "execute_result"
    }
   ],
   "source": [
    "#above data still includes scalar begins at -1\n",
    "#do opposite of earlier transform\n",
    "train_predictions = predicted.flatten()\n",
    "\n",
    "#lookback+1 is the length of the whole dataset\n",
    "dummies = np.zeros((X_train.shape[0], lookback+1))\n",
    "dummies[:, 0] = train_predictions\n",
    "dummies = scaler.inverse_transform(dummies)\n",
    "\n",
    "#return in right scale\n",
    "train_predictions = dc(dummies[:, 0])\n",
    "train_predictions"
   ]
  },
  {
   "cell_type": "code",
   "execution_count": 89,
   "id": "44214f13-964a-41b8-9f16-65eb6cdd896a",
   "metadata": {
    "tags": []
   },
   "outputs": [
    {
     "data": {
      "text/plain": [
       "array([ 273.10001116,  272.89997425,  272.79998541, ..., 1927.09998886,\n",
       "       1933.89999999, 1941.19995531])"
      ]
     },
     "execution_count": 89,
     "metadata": {},
     "output_type": "execute_result"
    }
   ],
   "source": [
    "#first column is no y_train.flatter()\n",
    "dummies = np.zeros((X_train.shape[0], lookback+1))\n",
    "dummies[:, 0] = y_train.flatten()\n",
    "dummies = scaler.inverse_transform(dummies)\n",
    "\n",
    "new_y_train = dc(dummies[:, 0])\n",
    "new_y_train"
   ]
  },
  {
   "cell_type": "code",
   "execution_count": 90,
   "id": "3d82eb6b-eeb1-4e61-ad3e-161829f8b8f1",
   "metadata": {
    "tags": []
   },
   "outputs": [
    {
     "data": {
      "image/png": "[encoded data removed]",
      "text/plain": [
       "<Figure size 640x480 with 1 Axes>"
      ]
     },
     "metadata": {},
     "output_type": "display_data"
    }
   ],
   "source": [
    "#same graph as earlier with different y_train and predictions\n",
    "plt.plot(new_y_train, label='Actual Close')\n",
    "plt.plot(train_predictions, label='Predicted Close')\n",
    "plt.xlabel('Day')\n",
    "plt.ylabel('Close')\n",
    "plt.legend()\n",
    "plt.show()\n"
   ]
  },
  {
   "cell_type": "code",
   "execution_count": 91,
   "id": "a1ca2cd9-e6cb-4802-bc76-0b8327bb0888",
   "metadata": {
    "tags": []
   },
   "outputs": [
    {
     "data": {
      "text/plain": [
       "array([1923.76037348, 1925.29361466, 1925.83158779, 1924.22323651,\n",
       "       1923.94856337, 1923.52420316, 1920.53987987, 1905.91805224,\n",
       "       1893.38420245, 1884.5345386 , 1879.5630556 , 1873.81186105,\n",
       "       1868.82936033, 1863.00187098, 1860.05474733, 1853.12358971,\n",
       "       1848.72834571, 1845.13360477, 1841.1877182 , 1837.92783325,\n",
       "       1832.50065467, 1825.6640955 , 1822.42358042, 1822.85599661,\n",
       "       1826.08081438, 1828.47835483, 1833.66882997, 1838.51218746,\n",
       "       1834.52282232, 1829.35722592, 1828.34460198, 1835.54302835,\n",
       "       1854.2220453 , 1869.41116742, 1885.90209922, 1898.02888544,\n",
       "       1917.55046236, 1935.25180408, 1939.42556806, 1941.29034806,\n",
       "       1952.34930324, 1959.38578086, 1958.54878897, 1959.37381537,\n",
       "       1958.88713983, 1962.35339985, 1962.7857568 , 1964.68696639,\n",
       "       1975.05636583, 1985.15802264, 1990.78707442, 1990.12316749,\n",
       "       1991.11097192, 1993.47445218, 2001.17063105, 1999.53574245,\n",
       "       1995.53701817, 1994.69090408, 1992.39323401, 1992.24295457,\n",
       "       1986.67307865, 1982.67020792, 1981.9351004 , 1980.14134327,\n",
       "       1979.08476689, 1978.83858584, 1977.05910437, 1982.57963746,\n",
       "       1990.64188921, 2001.52426456, 2004.88887716, 2007.94256474,\n",
       "       2012.04921536, 2014.33740782, 2011.77939951, 2008.63774781,\n",
       "       2006.26733704, 1999.43462814, 1991.15569442, 1978.97381956,\n",
       "       1973.36176825, 1969.53275252, 1966.42510176, 1962.204779  ,\n",
       "       1955.41554866, 1949.74858642, 1948.79294664, 1949.33607322,\n",
       "       1953.47080128, 1952.17455971, 1951.80505119, 1953.50083347,\n",
       "       1950.08741116, 1950.59582597, 1951.18491899, 1950.03860144,\n",
       "       1947.38836408, 1946.93172074, 1947.24021711, 1948.41905473,\n",
       "       1943.9802137 , 1939.2608945 , 1931.04309139, 1925.45325324,\n",
       "       1921.98545311, 1917.6134885 , 1913.84945367, 1910.95836642,\n",
       "       1911.36631851, 1912.88060447, 1913.59960004, 1911.64188017,\n",
       "       1913.75290046, 1915.69130969, 1918.70827152, 1926.36482211,\n",
       "       1933.93234235, 1940.30414298, 1943.73752751, 1950.59185722,\n",
       "       1956.60795111, 1959.14694496, 1959.11454336, 1957.79294917,\n",
       "       1956.78767038, 1957.57597102, 1952.85167607, 1951.61022696,\n",
       "       1953.49727936, 1949.32908348, 1944.47032487, 1939.09171907,\n",
       "       1936.14027126, 1933.53339399, 1929.05148905, 1923.24538357,\n",
       "       1919.04922872, 1915.49227978, 1912.41081093, 1908.10726286,\n",
       "       1903.37674822, 1897.11109689, 1892.48673154, 1890.62295853,\n",
       "       1890.40657273, 1895.63673539, 1900.89912193, 1903.80140462,\n",
       "       1907.45147113, 1914.22251629, 1921.51601499, 1926.06307854,\n",
       "       1929.04568401, 1928.27041509, 1925.33342064, 1922.07667516,\n",
       "       1919.07262658, 1917.75879219, 1914.68911113, 1911.53774488,\n",
       "       1909.57350915, 1911.3131254 , 1914.98345031, 1918.42216601,\n",
       "       1924.05566042, 1923.48540417, 1923.33690179, 1921.06073405,\n",
       "       1914.92143117, 1902.87668556, 1889.7664783 , 1875.91802407,\n",
       "       1861.49712188, 1848.51012362, 1837.48120064, 1829.2577702 ,\n",
       "       1827.24792345, 1831.42749247, 1838.85622489, 1848.53648324,\n",
       "       1855.79307847, 1874.33893492, 1889.02248552, 1900.17118186,\n",
       "       1914.96964854, 1929.61588102, 1943.89349352, 1953.83882892,\n",
       "       1959.14558255, 1964.81959377, 1969.69079175, 1972.77836181,\n",
       "       1976.35231122, 1976.72324138, 1975.41574515, 1975.36971948,\n",
       "       1976.41669977, 1975.39039253, 1971.18991352, 1963.88415316,\n",
       "       1960.43299809, 1951.62154087, 1946.30329563, 1945.98123442,\n",
       "       1946.69223326, 1953.04679647, 1958.91960066, 1962.41861769,\n",
       "       1970.13345561, 1974.60777846, 1977.31055734, 1981.40547942,\n",
       "       1986.1610505 , 1995.96303697, 2006.19465558, 2012.16549385,\n",
       "       2023.04591445, 2023.10082538, 2019.80012746, 2018.40928744,\n",
       "       2016.64277846, 2008.90128474, 1997.86359497, 1987.40244037,\n",
       "       1981.44741786, 1987.13908114, 1991.67956959, 1996.77058901,\n",
       "       2004.29919179, 2010.14853889, 2015.18210027, 2022.29351028,\n",
       "       2027.27399701, 2036.10654193, 2042.06760642, 2043.88114806,\n",
       "       2045.06004491, 2039.69133137, 2035.20184434, 2031.67599381,\n",
       "       2025.3271764 , 2020.1951663 , 2015.64123148, 2010.56164444,\n",
       "       2013.71147058, 2013.14601237, 2007.64348675, 2005.98466717,\n",
       "       2006.64111048, 2006.37289398, 2007.00546555, 2004.86542006,\n",
       "       2004.11331207, 2004.10537456, 2005.29594073, 2007.65545224,\n",
       "       2013.41878998, 2019.44501307, 2021.32087003, 2019.86481218,\n",
       "       2019.68923936, 2019.50152335, 2018.61465551, 2015.66391852,\n",
       "       2011.98755163, 2004.28728554, 1996.96043749, 1993.11898238,\n",
       "       1992.63994817, 1996.37910427, 1999.47798823, 2001.58924546,\n",
       "       2007.48680992, 2010.57746021, 2013.30991587, 2014.9735335 ,\n",
       "       2018.26315446, 2029.47961575, 2045.76529794, 2062.29348861,\n",
       "       2079.12111268, 2093.73677986, 2108.56752967, 2120.57910363,\n",
       "       2124.73586714, 2128.56014406, 2129.07436392, 2127.42087549,\n",
       "       2126.083584  , 2123.79604313, 2122.14770816, 2125.81240574,\n",
       "       2125.09601651, 2127.08276157, 2129.38783604, 2133.74848674])"
      ]
     },
     "execution_count": 91,
     "metadata": {},
     "output_type": "execute_result"
    }
   ],
   "source": [
    "#convert to vector of predictions \n",
    "test_predictions = model(X_test.to(device)).detach().cpu().numpy().flatten()\n",
    "\n",
    "dummies = np.zeros((X_test.shape[0], lookback+1))\n",
    "dummies[:, 0] = test_predictions\n",
    "dummies = scaler.inverse_transform(dummies)\n",
    "\n",
    "test_predictions = dc(dummies[:, 0])\n",
    "test_predictions"
   ]
  },
  {
   "cell_type": "code",
   "execution_count": 92,
   "id": "70635d39-dab3-4aea-8c8d-081a5cd65bb2",
   "metadata": {
    "tags": []
   },
   "outputs": [
    {
     "data": {
      "text/plain": [
       "array([1929.10000259, 1928.59999916, 1922.90004297, 1929.50001718,\n",
       "       1927.80002921, 1916.30006876, 1862.90004585, 1866.19997372,\n",
       "       1871.69995223, 1877.40002689, 1866.19997372, 1862.80005701,\n",
       "       1851.9000296 , 1853.99997293, 1834.19993182, 1842.00000905,\n",
       "       1840.40000991, 1833.00000652, 1831.99999966, 1818.00002205,\n",
       "       1808.80004184, 1817.00001519, 1828.90004946, 1837.69995584,\n",
       "       1833.50000995, 1847.69996524, 1847.90000215, 1813.90000576,\n",
       "       1812.69996198, 1829.30006406, 1862.00002783, 1911.69993057,\n",
       "       1906.19995206, 1926.59998543, 1919.00000436, 1969.80002126,\n",
       "       1979.19997915, 1938.00001628, 1946.80004113, 1993.8000675 ,\n",
       "       1982.09995166, 1952.40000848, 1972.40002726, 1966.09996033,\n",
       "       1980.30003409, 1968.99999208, 1983.90004694, 2022.19997807,\n",
       "       2020.90000469, 2011.90000216, 1989.0999997 , 2004.80002452,\n",
       "       2010.8999953 , 2041.30003806, 2002.19995928, 1994.19996362,\n",
       "       2007.40003051, 1995.19997048, 2007.59994896, 1979.5000049 ,\n",
       "       1989.0999997 , 1993.99998594, 1985.69996452, 1989.90002889,\n",
       "       1990.09994733, 1983.40004351, 2014.30003048, 2028.5999746 ,\n",
       "       2048.00000111, 2017.4000399 , 2026.30005359, 2036.19995567,\n",
       "       2030.49999949, 2014.6999266 , 2014.50000815, 2017.99997294,\n",
       "       1988.40001859, 1980.69993021, 1956.50002477, 1978.69997572,\n",
       "       1974.80005558, 1972.40002726, 1962.80003246, 1943.09998019,\n",
       "       1944.09998706, 1957.99997582, 1963.90002816, 1977.99999461,\n",
       "       1952.40000848, 1957.99997582, 1965.50002729, 1942.6999656 ,\n",
       "       1963.60000241, 1962.19992172, 1955.30004022, 1944.59999049,\n",
       "       1955.30004022, 1957.80005738, 1958.40004965, 1935.49999912,\n",
       "       1933.30006695, 1912.69993743, 1919.0999932 , 1923.69995368,\n",
       "       1914.00002928, 1912.30004131, 1909.19997264, 1921.09994769,\n",
       "       1921.69993996, 1919.59999663, 1908.69996921, 1926.19997084,\n",
       "       1924.9999863 , 1931.30005323, 1956.19993978, 1959.19996037,\n",
       "       1960.09997839, 1952.40000848, 1977.19996542, 1977.49999118,\n",
       "       1968.3000702 , 1964.30004275, 1960.30007454, 1962.09999211,\n",
       "       1968.90000324, 1945.40001967, 1960.40000414, 1970.50000237,\n",
       "       1940.69995188, 1937.40002401, 1931.9999751 , 1939.59995618,\n",
       "       1933.49998539, 1924.09996827, 1915.40005073, 1914.40004387,\n",
       "       1912.90003358, 1910.5999941 , 1902.50000959, 1896.09995382,\n",
       "       1884.09998994, 1886.10000367, 1893.30002939, 1896.40003881,\n",
       "       1918.50000093, 1918.19997517, 1911.09999753, 1917.90000865,\n",
       "       1936.50000598, 1944.30002397, 1938.19993472, 1939.80005232,\n",
       "       1926.19997084, 1918.09998633, 1917.49999406, 1918.40001209,\n",
       "       1923.30005756, 1911.30003444, 1909.0999838 , 1910.00000183,\n",
       "       1923.69995368, 1931.49997167, 1931.9999751 , 1945.59999735,\n",
       "       1919.1999228 , 1925.40000089, 1916.59997604, 1900.40000703,\n",
       "       1871.59996339, 1860.4000287 , 1848.09997983, 1829.99998593,\n",
       "       1824.59999626, 1818.50002548, 1816.60000059, 1830.19996361,\n",
       "       1849.50000128, 1861.00002097, 1872.80006641, 1869.30004239,\n",
       "       1927.40001461, 1921.09994769, 1922.69994682, 1955.30004022,\n",
       "       1968.39999981, 1982.50002549, 1976.30006587, 1974.99997402,\n",
       "       1984.09996539, 1987.19997482, 1988.59999627, 1996.19997734,\n",
       "       1985.19996109, 1978.80002379, 1985.59997568, 1991.50002802,\n",
       "       1981.59994823, 1966.80005991, 1951.49999045, 1964.19993544,\n",
       "       1932.59996737, 1945.50000851, 1961.8000256 , 1960.09997839,\n",
       "       1983.90004694, 1981.59994823, 1977.69996886, 1999.30004601,\n",
       "       1991.40003918, 1991.50002802, 2002.19995928, 2011.80007255,\n",
       "       2039.69997969, 2047.09998309, 2038.09998056, 2070.99998125,\n",
       "       2024.10000295, 2018.49997637, 2030.49999949, 2029.90000722,\n",
       "       1998.30003914, 1977.99999461, 1977.80007616, 1982.30004781,\n",
       "       2030.19997373, 2021.09998237, 2026.30005359, 2038.40000631,\n",
       "       2034.50002694, 2039.09998742, 2057.10011095, 2058.19992895,\n",
       "       2081.89989019, 2073.89989453, 2062.39987484, 2064.39988857,\n",
       "       2034.19994195, 2042.30004493, 2042.40003376, 2026.59996088,\n",
       "       2026.40004243, 2021.69997464, 2014.30003048, 2046.6999685 ,\n",
       "       2026.00002784, 2002.59997388, 2018.59996521, 2026.49997204,\n",
       "       2019.80006822, 2023.69992913, 2013.90001588, 2016.90003647,\n",
       "       2016.80004763, 2025.19993942, 2031.50000635, 2048.39989724,\n",
       "       2052.99997619, 2036.09996684, 2025.69994285, 2034.50002694,\n",
       "       2035.19994881, 2032.19992822, 2023.300033  , 2018.19995062,\n",
       "       1992.90004947, 1990.30004348, 2002.09997045, 2011.49998757,\n",
       "       2027.4999789 , 2022.30002614, 2019.69996091, 2038.59998399,\n",
       "       2028.49998576, 2034.00002351, 2033.00001664, 2045.69996164,\n",
       "       2086.89992451, 2117.69992263, 2133.49999552, 2150.30007527,\n",
       "       2157.99998595, 2178.60011547, 2182.49997638, 2160.3998958 ,\n",
       "       2175.39988027, 2163.00002026, 2157.30006407, 2160.69998078,\n",
       "       2156.30005721, 2157.89987864, 2182.39992831, 2158.10009326,\n",
       "       2174.8000657 , 2175.60009489, 2190.60007936, 2242.69995117])"
      ]
     },
     "execution_count": 92,
     "metadata": {},
     "output_type": "execute_result"
    }
   ],
   "source": [
    "#make ground truth proper scale\n",
    "dummies = np.zeros((X_test.shape[0], lookback+1))\n",
    "dummies[:, 0] = y_test.flatten()\n",
    "dummies = scaler.inverse_transform(dummies)\n",
    "\n",
    "new_y_test = dc(dummies[:, 0])\n",
    "new_y_test"
   ]
  },
  {
   "cell_type": "code",
   "execution_count": 93,
   "id": "d1f438e7-08f0-4974-87fa-4262bcf714bc",
   "metadata": {
    "tags": []
   },
   "outputs": [
    {
     "data": {
      "image/png": "[encoded data removed]",
      "text/plain": [
       "<Figure size 640x480 with 1 Axes>"
      ]
     },
     "metadata": {},
     "output_type": "display_data"
    }
   ],
   "source": [
    "#revised graph with more accurate axises \n",
    "plt.plot(new_y_test, label='Actual Close')\n",
    "plt.plot(test_predictions, label='Predicted Close')\n",
    "plt.title(\"Gold Closing Price Prediction using LSTM\")\n",
    "plt.xlabel('Day')\n",
    "plt.ylabel('Close')\n",
    "plt.legend()\n",
    "plt.show()"
   ]
  },
  {
   "cell_type": "code",
   "execution_count": 94,
   "id": "21e570b1-903a-4ca5-b385-499d9a8c6671",
   "metadata": {},
   "outputs": [
    {
     "name": "stdout",
     "output_type": "stream",
     "text": [
      "Root Mean Square Error (RMSE): 28.756947648352156\n",
      "Mean Absolute Error (MAE): 21.548098556168203\n",
      "Mean Absolute Percentage Error (MAPE): 1.0789467432275297\n"
     ]
    }
   ],
   "source": [
    "from math import sqrt\n",
    "from sklearn.metrics import mean_squared_error, mean_absolute_error\n",
    "import numpy as np\n",
    "\n",
    "# For each model, replace `actuals` and `predictions` with the corresponding variables\n",
    "actuals = new_y_test\n",
    "predictions = test_predictions\n",
    "\n",
    "# Calculate the RMSE\n",
    "rmse = sqrt(mean_squared_error(actuals, predictions))\n",
    "print(\"Root Mean Square Error (RMSE):\", rmse)\n",
    "\n",
    "# Calculate Mean Absolute Error (MAE)\n",
    "mae = mean_absolute_error(actuals, predictions)\n",
    "print(\"Mean Absolute Error (MAE):\", mae)\n",
    "\n",
    "# Calculate Mean Absolute Percentage Error (MAPE)\n",
    "mape = np.mean(np.abs((actuals - predictions) / actuals)) * 100\n",
    "print(\"Mean Absolute Percentage Error (MAPE):\", mape)\n"
   ]
  },
  {
   "cell_type": "code",
   "execution_count": 95,
   "id": "079e0f53-16c4-43d3-925b-6c2f216f0728",
   "metadata": {
    "tags": []
   },
   "outputs": [
    {
     "name": "stdout",
     "output_type": "stream",
     "text": [
      "Training - RMSE: 0.018, MAE: 0.012, MAPE: 14958.556%\n",
      "Validation - RMSE: 0.029, MAE: 0.022, MAPE: 2.911%\n"
     ]
    }
   ],
   "source": [
    "#comparing the RMSE, MAE and MAPE for Training vs Validation data to check for overfitting\n",
    "from sklearn.metrics import mean_squared_error, mean_absolute_error\n",
    "import numpy as np\n",
    "import torch\n",
    "\n",
    "def evaluate_model(model, data_loader):\n",
    "    model.eval()  # Set the model to evaluation mode\n",
    "    predictions, actuals = [], []\n",
    "    with torch.no_grad():\n",
    "        for inputs, targets in data_loader:\n",
    "            inputs, targets = inputs.to(device), targets.to(device)\n",
    "            outputs = model(inputs)\n",
    "            predictions.extend(outputs.view(-1).tolist())\n",
    "            actuals.extend(targets.view(-1).tolist())\n",
    "\n",
    "    mse = mean_squared_error(actuals, predictions)\n",
    "    rmse = np.sqrt(mse)\n",
    "    mae = mean_absolute_error(actuals, predictions)\n",
    "    mape = np.mean(np.abs((np.array(actuals) - np.array(predictions)) / np.array(actuals))) * 100\n",
    "    \n",
    "    return rmse, mae, mape\n",
    "\n",
    "# Assuming 'train_loader' and 'test_loader' are already defined\n",
    "# Evaluate the model on training data\n",
    "train_rmse, train_mae, train_mape = evaluate_model(model, train_loader)\n",
    "print(f'Training - RMSE: {train_rmse:.3f}, MAE: {train_mae:.3f}, MAPE: {train_mape:.3f}%')\n",
    "\n",
    "# Evaluate the model on test (validation) data\n",
    "val_rmse, val_mae, val_mape = evaluate_model(model, test_loader)  # Use test_loader as validation loader\n",
    "print(f'Validation - RMSE: {val_rmse:.3f}, MAE: {val_mae:.3f}, MAPE: {val_mape:.3f}%')\n"
   ]
  },
  {
   "cell_type": "code",
   "execution_count": 96,
   "id": "979566db-d7be-40bb-bb9f-5685aab8a9a2",
   "metadata": {},
   "outputs": [
    {
     "name": "stdout",
     "output_type": "stream",
     "text": [
      "The day before today for GC=F is: Date     2024-03-27 00:00:00\n",
      "Close            2190.600098\n",
      "Name: 5914, dtype: object\n",
      "The current closing price for GC=F is: 2190.60009765625\n"
     ]
    },
    {
     "data": {
      "image/png": "[encoded data removed]",
      "text/plain": [
       "<Figure size 640x480 with 1 Axes>"
      ]
     },
     "metadata": {},
     "output_type": "display_data"
    },
    {
     "name": "stdout",
     "output_type": "stream",
     "text": [
      "Root Mean Square Error (RMSE): 28.756947648352156\n",
      "Mean Absolute Error (MAE): 21.548098556168203\n",
      "Mean Absolute Percentage Error (MAPE): 1.0789467432275297\n",
      "Predicted Gold price for tomorrow: 2128.6157065807574\n"
     ]
    },
    {
     "data": {
      "text/plain": [
       "<Figure size 640x480 with 0 Axes>"
      ]
     },
     "metadata": {},
     "output_type": "display_data"
    }
   ],
   "source": [
    "from math import sqrt\n",
    "from sklearn.metrics import mean_squared_error, mean_absolute_error\n",
    "import numpy as np\n",
    "import pandas_datareader as pdr\n",
    "from datetime import datetime, timedelta\n",
    "import yfinance as yf\n",
    "import datetime as dt\n",
    "# Get the last row of the dataframe, which corresponds to the most recent closing price\n",
    "yesterday = data.iloc[-2]\n",
    "print(f\"The day before today for {symbol} is: {yesterday}\")\n",
    "current_price = yesterday['Close']\n",
    "print(f\"The current closing price for {symbol} is: {current_price}\")\n",
    "\n",
    "#revised graph with more accurate axises \n",
    "plt.plot(new_y_test, label='Actual Close')\n",
    "plt.plot(test_predictions, label='Predicted Close')\n",
    "plt.title(\"Gold Closing Price Prediction using LSTM\")\n",
    "plt.xlabel('Day')\n",
    "plt.ylabel('Close')\n",
    "plt.legend()\n",
    "plt.savefig(r'C:\\Users\\jackc\\Documents\\FYP_ML_Predict\\static\\images\\LSTM_Gold_PNG.png')\n",
    "plt.show()\n",
    "plt.clf()\n",
    "\n",
    "# For each model, replace `actuals` and `predictions` with the corresponding variables\n",
    "actuals = new_y_test\n",
    "predictions = test_predictions\n",
    "\n",
    "# Calculate the RMSE\n",
    "rmse = sqrt(mean_squared_error(actuals, predictions))\n",
    "print(\"Root Mean Square Error (RMSE):\", rmse)\n",
    "\n",
    "# Calculate Mean Absolute Error (MAE)\n",
    "mae = mean_absolute_error(actuals, predictions)\n",
    "print(\"Mean Absolute Error (MAE):\", mae)\n",
    "\n",
    "# Calculate Mean Absolute Percentage Error (MAPE)\n",
    "mape = np.mean(np.abs((actuals - predictions) / actuals)) * 100\n",
    "print(\"Mean Absolute Percentage Error (MAPE):\", mape)\n",
    "# Correcting the approach to reshape and inverse transform the prediction\n",
    "latest_input = shifted_df_as_np[-1, 1:].reshape(1, lookback, 1)  # Reshape for LSTM: [1, lookback, 1]\n",
    "\n",
    "# Convert to PyTorch tensor\n",
    "latest_input_tensor = torch.tensor(latest_input).float().to(device)\n",
    "\n",
    "# Make the prediction\n",
    "model.eval()  # Ensure the model is in evaluation mode\n",
    "with torch.no_grad():\n",
    "    prediction_scaled = model(latest_input_tensor).cpu().numpy()\n",
    "\n",
    "# Prepare the data for inverse transformation correctly\n",
    "prediction_scaled_expanded = np.expand_dims(prediction_scaled.flatten(), axis=0)\n",
    "dummy_features = np.zeros((1, lookback))\n",
    "combined_prediction = np.concatenate((prediction_scaled_expanded, dummy_features), axis=1)\n",
    "\n",
    "# Inverse transform the prediction to get it back into the original scale\n",
    "next_day_price = scaler.inverse_transform(combined_prediction)[0, 0]\n",
    "\n",
    "print(f'Predicted Gold price for tomorrow: {next_day_price}')\n",
    "import pickle\n",
    "model_info = {\n",
    "    'current_price': current_price,\n",
    "    'next_day_price': next_day_price,\n",
    "    'rmse': rmse,\n",
    "    'mae': mae,\n",
    "    'mape': mape\n",
    "}\n",
    "with open(r'C:\\Users\\jackc\\Documents\\FYP_ML_Predict\\models\\LSTM_Gold.pkl', 'wb') as pkl:\n",
    "    pickle.dump(model_info, pkl)\n",
    "\n"
   ]
  },
  {
   "cell_type": "code",
   "execution_count": 97,
   "id": "e847c073-e9b3-4950-a9ea-33a6ce4940fb",
   "metadata": {},
   "outputs": [
    {
     "ename": "NameError",
     "evalue": "name 'last_7_days_scaled' is not defined",
     "output_type": "error",
     "traceback": [
      "\u001b[1;31m---------------------------------------------------------------------------\u001b[0m",
      "\u001b[1;31mNameError\u001b[0m                                 Traceback (most recent call last)",
      "Cell \u001b[1;32mIn[97], line 29\u001b[0m\n\u001b[0;32m     26\u001b[0m     \u001b[38;5;28;01mreturn\u001b[39;00m last_prediction[\u001b[38;5;241m0\u001b[39m]\n\u001b[0;32m     28\u001b[0m \u001b[38;5;66;03m# Let's ensure that last_7_days_scaled is correctly shaped as (1, 7, 1) before prediction\u001b[39;00m\n\u001b[1;32m---> 29\u001b[0m last_7_days_scaled \u001b[38;5;241m=\u001b[39m last_7_days_scaled\u001b[38;5;241m.\u001b[39mreshape(\u001b[38;5;241m1\u001b[39m, \u001b[38;5;241m-\u001b[39m\u001b[38;5;241m1\u001b[39m, \u001b[38;5;241m1\u001b[39m)\n\u001b[0;32m     31\u001b[0m \u001b[38;5;66;03m# Now, you can call your predict_next_N_days function again with this correctly shaped input\u001b[39;00m\n\u001b[0;32m     32\u001b[0m price_in_7_days \u001b[38;5;241m=\u001b[39m predict_next_7_days(model, scaler, last_7_days_scaled, N\u001b[38;5;241m=\u001b[39m\u001b[38;5;241m7\u001b[39m)\n",
      "\u001b[1;31mNameError\u001b[0m: name 'last_7_days_scaled' is not defined"
     ]
    }
   ],
   "source": [
    "def predict_next_7_days(model, scaler, last_7_days, N=7):\n",
    "    model.eval()  # Ensure the model is in evaluation mode\n",
    "    current_input = last_7_days\n",
    "    \n",
    "    for _ in range(N):\n",
    "        # Convert current input to tensor\n",
    "        current_input_tensor = torch.tensor(current_input).float().to(device)\n",
    "        \n",
    "        with torch.no_grad():\n",
    "            # Predict the next day\n",
    "            predicted_price_scaled = model(current_input_tensor).cpu().numpy()\n",
    "            # Assuming the output is 2D, we reshape it to fit our expected input shape for the next step\n",
    "            next_day_price_scaled = predicted_price_scaled.reshape(1, 1, -1)  # Adjust this line if needed\n",
    "            \n",
    "            # Prepare for next day prediction by updating the input\n",
    "            current_input = np.append(current_input[:, 1:, :], next_day_price_scaled, axis=1)\n",
    "    \n",
    "    # The last prediction is the day we're interested in, reverse scaling\n",
    "    last_prediction_scaled = current_input[0, -1, :].reshape(1, -1)\n",
    "    dummy_array = np.zeros((1, scaler.n_features_in_))\n",
    "    dummy_array[:, 0] = last_prediction_scaled  # Use the first feature assuming it's the 'Close' price\n",
    "    \n",
    "    # Inverse transform to get the original scale\n",
    "    last_prediction = scaler.inverse_transform(dummy_array)[:, 0]\n",
    "\n",
    "    return last_prediction[0]\n",
    "\n",
    "# Let's ensure that last_7_days_scaled is correctly shaped as (1, 7, 1) before prediction\n",
    "last_7_days_scaled = last_7_days_scaled.reshape(1, -1, 1)\n",
    "\n",
    "# Now, you can call your predict_next_N_days function again with this correctly shaped input\n",
    "price_in_7_days = predict_next_7_days(model, scaler, last_7_days_scaled, N=7)\n",
    "print(f'Predicted gold price in 7 days: {price_in_7_days}')\n",
    "\n",
    "\n"
   ]
  },
  {
   "cell_type": "code",
   "execution_count": null,
   "id": "4bce4959-a905-4581-a87e-2e6d8a37c8cf",
   "metadata": {
    "tags": []
   },
   "outputs": [],
   "source": [
    "import numpy as np\n",
    "import torch\n",
    "\n",
    "def predict_price_in_N_days(model, scaler, last_N_days_scaled, N=30):\n",
    "    model.eval()  # Set the model to evaluation mode\n",
    "    current_input = last_N_days_scaled  # Starting input\n",
    "\n",
    "    with torch.no_grad():\n",
    "        for _ in range(N):\n",
    "            # Predict the next day\n",
    "            current_input_tensor = torch.tensor(current_input).float().to(device)\n",
    "            predicted_price_scaled = model(current_input_tensor).cpu().numpy()\n",
    "            \n",
    "            # Prepare the input for the next prediction\n",
    "            next_input_scaled = np.append(current_input[:, :, :], predicted_price_scaled.reshape(1, 1, 1), axis=1)\n",
    "            current_input = next_input_scaled\n",
    "\n",
    "    # Last prediction is the price after N days\n",
    "    predicted_price_scaled = predicted_price_scaled[0, 0]  # Extract the predicted price\n",
    "    dummy_array = np.zeros((1, 8))  # Adjust the size based on your scaler's expected feature input\n",
    "    dummy_array[:, 0] = predicted_price_scaled\n",
    "\n",
    "    predicted_price = scaler.inverse_transform(dummy_array)[:, 0]\n",
    "\n",
    "    return predicted_price.item()\n",
    "\n",
    "# Assuming last_7_days_scaled is defined and shaped correctly as per your LSTM model's input requirements\n",
    "# Predict the gold price exactly 30 days into the future\n",
    "predicted_price_in_30_days = predict_price_in_N_days(model, scaler, last_7_days_scaled, N=30)\n",
    "\n",
    "# Display the predicted price\n",
    "print(f'Predicted gold price in 30 days: {predicted_price_in_30_days}')"
   ]
  },
  {
   "cell_type": "code",
   "execution_count": null,
   "id": "aa2f96bd-b672-488e-9c62-08b9a5ef642e",
   "metadata": {},
   "outputs": [],
   "source": []
  },
  {
   "cell_type": "code",
   "execution_count": null,
   "id": "e5e0f5cd-9548-4a4c-8fb5-ce9366b67572",
   "metadata": {},
   "outputs": [],
   "source": []
  }
 ],
 "metadata": {
  "kernelspec": {
   "display_name": "Python 3 (ipykernel)",
   "language": "python",
   "name": "python3"
  },
  "language_info": {
   "codemirror_mode": {
    "name": "ipython",
    "version": 3
   },
   "file_extension": ".py",
   "mimetype": "text/x-python",
   "name": "python",
   "nbconvert_exporter": "python",
   "pygments_lexer": "ipython3",
   "version": "3.11.5"
  }
 },
 "nbformat": 4,
 "nbformat_minor": 5
}
